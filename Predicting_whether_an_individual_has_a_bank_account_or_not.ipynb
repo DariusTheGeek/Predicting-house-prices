{
  "nbformat": 4,
  "nbformat_minor": 0,
  "metadata": {
    "colab": {
      "name": "Predicting_whether_an_individual_has_a_bank_account_or_not.ipynb",
      "version": "0.3.2",
      "provenance": [],
      "collapsed_sections": [],
      "include_colab_link": true
    },
    "kernelspec": {
      "name": "python3",
      "display_name": "Python 3"
    },
    "accelerator": "TPU"
  },
  "cells": [
    {
      "cell_type": "markdown",
      "metadata": {
        "id": "view-in-github",
        "colab_type": "text"
      },
      "source": [
        "<a href=\"https://colab.research.google.com/github/DariusTheGeek/Prediction-of-bank-account-ownership/blob/master/Predicting_whether_an_individual_has_a_bank_account_or_not.ipynb\" target=\"_parent\"><img src=\"https://colab.research.google.com/assets/colab-badge.svg\" alt=\"Open In Colab\"/></a>"
      ]
    },
    {
      "cell_type": "markdown",
      "metadata": {
        "id": "Vd2kBgjQVbFg",
        "colab_type": "text"
      },
      "source": [
        "# Research Question:\n",
        "##**Create a model which can predict individuals who are most likely to have or use a bank account**"
      ]
    },
    {
      "cell_type": "markdown",
      "metadata": {
        "id": "pWsmcRkrboGS",
        "colab_type": "text"
      },
      "source": [
        "### Metrics for success\n",
        "\n",
        "The models accuracy has been used to gauge how well the research question has been answered"
      ]
    },
    {
      "cell_type": "markdown",
      "metadata": {
        "id": "5eV3eD4oOle2",
        "colab_type": "text"
      },
      "source": [
        "### Importing Libraries"
      ]
    },
    {
      "cell_type": "code",
      "metadata": {
        "id": "pZ3nn_v8OQ0-",
        "colab_type": "code",
        "colab": {}
      },
      "source": [
        "# Importing libraries\n",
        "# Pandas library will load data into a dataframe containing columns and rows\n",
        "# Matplotlib and seaborn will be used to make visualisations and graphs\n",
        "# The sklearn library is used to create a model that will do the prediction\n",
        "#\n",
        "import pandas as pd\n",
        "import numpy as np\n",
        "import matplotlib.pyplot as plt\n",
        "import seaborn as sns\n",
        "import warnings\n",
        "import statsmodels.api as sm\n",
        "from sklearn.preprocessing import StandardScaler, LabelEncoder\n",
        "from sklearn.model_selection import train_test_split\n",
        "from sklearn.ensemble import RandomForestClassifier\n",
        "from sklearn.linear_model import LogisticRegression, LinearRegression\n",
        "from sklearn.decomposition import PCA\n",
        "from sklearn.discriminant_analysis import LinearDiscriminantAnalysis as LDA\n",
        "from sklearn.metrics import confusion_matrix, accuracy_score, r2_score\n",
        "warnings.filterwarnings(\"ignore\")"
      ],
      "execution_count": 0,
      "outputs": []
    },
    {
      "cell_type": "markdown",
      "metadata": {
        "id": "NfILH7QPP6Wt",
        "colab_type": "text"
      },
      "source": [
        "### Reading the data"
      ]
    },
    {
      "cell_type": "code",
      "metadata": {
        "id": "yB4azM0KPAa2",
        "colab_type": "code",
        "colab": {}
      },
      "source": [
        "# Loading the csv dataset into a pandas dataframe\n",
        "# Dataset url = 'http://bit.ly/FinancialDataset'\n",
        "#\n",
        "df = pd.read_csv('http://bit.ly/FinancialDataset')"
      ],
      "execution_count": 0,
      "outputs": []
    },
    {
      "cell_type": "markdown",
      "metadata": {
        "id": "44laVXuvQF_M",
        "colab_type": "text"
      },
      "source": [
        "### Checking the data"
      ]
    },
    {
      "cell_type": "code",
      "metadata": {
        "id": "H-kHLUrV9MkZ",
        "colab_type": "code",
        "outputId": "80dfe946-f532-40d3-c42a-bc59c4716fb7",
        "colab": {
          "base_uri": "https://localhost:8080/",
          "height": 347
        }
      },
      "source": [
        "# Previewing the top of our dataset\n",
        "#\n",
        "df.head()"
      ],
      "execution_count": 64,
      "outputs": [
        {
          "output_type": "execute_result",
          "data": {
            "text/html": [
              "<div>\n",
              "<style scoped>\n",
              "    .dataframe tbody tr th:only-of-type {\n",
              "        vertical-align: middle;\n",
              "    }\n",
              "\n",
              "    .dataframe tbody tr th {\n",
              "        vertical-align: top;\n",
              "    }\n",
              "\n",
              "    .dataframe thead th {\n",
              "        text-align: right;\n",
              "    }\n",
              "</style>\n",
              "<table border=\"1\" class=\"dataframe\">\n",
              "  <thead>\n",
              "    <tr style=\"text-align: right;\">\n",
              "      <th></th>\n",
              "      <th>country</th>\n",
              "      <th>year</th>\n",
              "      <th>uniqueid</th>\n",
              "      <th>Has a Bank account</th>\n",
              "      <th>Type of Location</th>\n",
              "      <th>Cell Phone Access</th>\n",
              "      <th>household_size</th>\n",
              "      <th>Respondent Age</th>\n",
              "      <th>gender_of_respondent</th>\n",
              "      <th>The relathip with head</th>\n",
              "      <th>marital_status</th>\n",
              "      <th>Level of Educuation</th>\n",
              "      <th>Type of Job</th>\n",
              "    </tr>\n",
              "  </thead>\n",
              "  <tbody>\n",
              "    <tr>\n",
              "      <th>0</th>\n",
              "      <td>Kenya</td>\n",
              "      <td>2018</td>\n",
              "      <td>uniqueid_1</td>\n",
              "      <td>Yes</td>\n",
              "      <td>Rural</td>\n",
              "      <td>Yes</td>\n",
              "      <td>3.0</td>\n",
              "      <td>24.0</td>\n",
              "      <td>Female</td>\n",
              "      <td>Spouse</td>\n",
              "      <td>Married/Living together</td>\n",
              "      <td>Secondary education</td>\n",
              "      <td>Self employed</td>\n",
              "    </tr>\n",
              "    <tr>\n",
              "      <th>1</th>\n",
              "      <td>Kenya</td>\n",
              "      <td>2018</td>\n",
              "      <td>uniqueid_2</td>\n",
              "      <td>No</td>\n",
              "      <td>Rural</td>\n",
              "      <td>No</td>\n",
              "      <td>5.0</td>\n",
              "      <td>70.0</td>\n",
              "      <td>Female</td>\n",
              "      <td>Head of Household</td>\n",
              "      <td>Widowed</td>\n",
              "      <td>No formal education</td>\n",
              "      <td>Government Dependent</td>\n",
              "    </tr>\n",
              "    <tr>\n",
              "      <th>2</th>\n",
              "      <td>Kenya</td>\n",
              "      <td>2018</td>\n",
              "      <td>uniqueid_3</td>\n",
              "      <td>Yes</td>\n",
              "      <td>Urban</td>\n",
              "      <td>Yes</td>\n",
              "      <td>5.0</td>\n",
              "      <td>26.0</td>\n",
              "      <td>Male</td>\n",
              "      <td>Other relative</td>\n",
              "      <td>Single/Never Married</td>\n",
              "      <td>Vocational/Specialised training</td>\n",
              "      <td>Self employed</td>\n",
              "    </tr>\n",
              "    <tr>\n",
              "      <th>3</th>\n",
              "      <td>Kenya</td>\n",
              "      <td>2018</td>\n",
              "      <td>uniqueid_4</td>\n",
              "      <td>No</td>\n",
              "      <td>Rural</td>\n",
              "      <td>Yes</td>\n",
              "      <td>5.0</td>\n",
              "      <td>34.0</td>\n",
              "      <td>Female</td>\n",
              "      <td>Head of Household</td>\n",
              "      <td>Married/Living together</td>\n",
              "      <td>Primary education</td>\n",
              "      <td>Formally employed Private</td>\n",
              "    </tr>\n",
              "    <tr>\n",
              "      <th>4</th>\n",
              "      <td>Kenya</td>\n",
              "      <td>2018</td>\n",
              "      <td>uniqueid_5</td>\n",
              "      <td>No</td>\n",
              "      <td>Urban</td>\n",
              "      <td>No</td>\n",
              "      <td>8.0</td>\n",
              "      <td>26.0</td>\n",
              "      <td>Male</td>\n",
              "      <td>Child</td>\n",
              "      <td>Single/Never Married</td>\n",
              "      <td>Primary education</td>\n",
              "      <td>Informally employed</td>\n",
              "    </tr>\n",
              "  </tbody>\n",
              "</table>\n",
              "</div>"
            ],
            "text/plain": [
              "  country  year  ...              Level of Educuation                Type of Job\n",
              "0   Kenya  2018  ...              Secondary education              Self employed\n",
              "1   Kenya  2018  ...              No formal education       Government Dependent\n",
              "2   Kenya  2018  ...  Vocational/Specialised training              Self employed\n",
              "3   Kenya  2018  ...                Primary education  Formally employed Private\n",
              "4   Kenya  2018  ...                Primary education        Informally employed\n",
              "\n",
              "[5 rows x 13 columns]"
            ]
          },
          "metadata": {
            "tags": []
          },
          "execution_count": 64
        }
      ]
    },
    {
      "cell_type": "code",
      "metadata": {
        "id": "7TxhtFm29SlO",
        "colab_type": "code",
        "outputId": "5c5091c6-7b07-4179-a184-fc36ff994956",
        "colab": {
          "base_uri": "https://localhost:8080/",
          "height": 318
        }
      },
      "source": [
        "# Determining the no. of records together with some information in our dataset\n",
        "#\n",
        "df.info()"
      ],
      "execution_count": 65,
      "outputs": [
        {
          "output_type": "stream",
          "text": [
            "<class 'pandas.core.frame.DataFrame'>\n",
            "RangeIndex: 23524 entries, 0 to 23523\n",
            "Data columns (total 13 columns):\n",
            "country                   23510 non-null object\n",
            "year                      23524 non-null int64\n",
            "uniqueid                  23524 non-null object\n",
            "Has a Bank account        23488 non-null object\n",
            "Type of Location          23509 non-null object\n",
            "Cell Phone Access         23513 non-null object\n",
            "household_size            23496 non-null float64\n",
            "Respondent Age            23490 non-null float64\n",
            "gender_of_respondent      23490 non-null object\n",
            "The relathip with head    23520 non-null object\n",
            "marital_status            23492 non-null object\n",
            "Level of Educuation       23495 non-null object\n",
            "Type of Job               23494 non-null object\n",
            "dtypes: float64(2), int64(1), object(10)\n",
            "memory usage: 2.3+ MB\n"
          ],
          "name": "stdout"
        }
      ]
    },
    {
      "cell_type": "code",
      "metadata": {
        "id": "TufJLl9y9Sef",
        "colab_type": "code",
        "outputId": "6bd5df0f-ed17-4657-9e78-46fabad25b18",
        "colab": {
          "base_uri": "https://localhost:8080/",
          "height": 462
        }
      },
      "source": [
        "# Previewing statistical summary of the dataset\n",
        "#\n",
        "df.describe(include = 'all')"
      ],
      "execution_count": 66,
      "outputs": [
        {
          "output_type": "execute_result",
          "data": {
            "text/html": [
              "<div>\n",
              "<style scoped>\n",
              "    .dataframe tbody tr th:only-of-type {\n",
              "        vertical-align: middle;\n",
              "    }\n",
              "\n",
              "    .dataframe tbody tr th {\n",
              "        vertical-align: top;\n",
              "    }\n",
              "\n",
              "    .dataframe thead th {\n",
              "        text-align: right;\n",
              "    }\n",
              "</style>\n",
              "<table border=\"1\" class=\"dataframe\">\n",
              "  <thead>\n",
              "    <tr style=\"text-align: right;\">\n",
              "      <th></th>\n",
              "      <th>country</th>\n",
              "      <th>year</th>\n",
              "      <th>uniqueid</th>\n",
              "      <th>Has a Bank account</th>\n",
              "      <th>Type of Location</th>\n",
              "      <th>Cell Phone Access</th>\n",
              "      <th>household_size</th>\n",
              "      <th>Respondent Age</th>\n",
              "      <th>gender_of_respondent</th>\n",
              "      <th>The relathip with head</th>\n",
              "      <th>marital_status</th>\n",
              "      <th>Level of Educuation</th>\n",
              "      <th>Type of Job</th>\n",
              "    </tr>\n",
              "  </thead>\n",
              "  <tbody>\n",
              "    <tr>\n",
              "      <th>count</th>\n",
              "      <td>23510</td>\n",
              "      <td>23524.000000</td>\n",
              "      <td>23524</td>\n",
              "      <td>23488</td>\n",
              "      <td>23509</td>\n",
              "      <td>23513</td>\n",
              "      <td>23496.000000</td>\n",
              "      <td>23490.000000</td>\n",
              "      <td>23490</td>\n",
              "      <td>23520</td>\n",
              "      <td>23492</td>\n",
              "      <td>23495</td>\n",
              "      <td>23494</td>\n",
              "    </tr>\n",
              "    <tr>\n",
              "      <th>unique</th>\n",
              "      <td>4</td>\n",
              "      <td>NaN</td>\n",
              "      <td>8735</td>\n",
              "      <td>2</td>\n",
              "      <td>2</td>\n",
              "      <td>2</td>\n",
              "      <td>NaN</td>\n",
              "      <td>NaN</td>\n",
              "      <td>2</td>\n",
              "      <td>6</td>\n",
              "      <td>5</td>\n",
              "      <td>7</td>\n",
              "      <td>10</td>\n",
              "    </tr>\n",
              "    <tr>\n",
              "      <th>top</th>\n",
              "      <td>Rwanda</td>\n",
              "      <td>NaN</td>\n",
              "      <td>uniqueid_1428</td>\n",
              "      <td>No</td>\n",
              "      <td>Rural</td>\n",
              "      <td>Yes</td>\n",
              "      <td>NaN</td>\n",
              "      <td>NaN</td>\n",
              "      <td>Female</td>\n",
              "      <td>Head of Household</td>\n",
              "      <td>Married/Living together</td>\n",
              "      <td>Primary education</td>\n",
              "      <td>Self employed</td>\n",
              "    </tr>\n",
              "    <tr>\n",
              "      <th>freq</th>\n",
              "      <td>8735</td>\n",
              "      <td>NaN</td>\n",
              "      <td>4</td>\n",
              "      <td>20179</td>\n",
              "      <td>14338</td>\n",
              "      <td>17449</td>\n",
              "      <td>NaN</td>\n",
              "      <td>NaN</td>\n",
              "      <td>13859</td>\n",
              "      <td>12829</td>\n",
              "      <td>10739</td>\n",
              "      <td>12775</td>\n",
              "      <td>6428</td>\n",
              "    </tr>\n",
              "    <tr>\n",
              "      <th>mean</th>\n",
              "      <td>NaN</td>\n",
              "      <td>2016.979000</td>\n",
              "      <td>NaN</td>\n",
              "      <td>NaN</td>\n",
              "      <td>NaN</td>\n",
              "      <td>NaN</td>\n",
              "      <td>3.681818</td>\n",
              "      <td>38.804300</td>\n",
              "      <td>NaN</td>\n",
              "      <td>NaN</td>\n",
              "      <td>NaN</td>\n",
              "      <td>NaN</td>\n",
              "      <td>NaN</td>\n",
              "    </tr>\n",
              "    <tr>\n",
              "      <th>std</th>\n",
              "      <td>NaN</td>\n",
              "      <td>0.899669</td>\n",
              "      <td>NaN</td>\n",
              "      <td>NaN</td>\n",
              "      <td>NaN</td>\n",
              "      <td>NaN</td>\n",
              "      <td>2.279933</td>\n",
              "      <td>16.519996</td>\n",
              "      <td>NaN</td>\n",
              "      <td>NaN</td>\n",
              "      <td>NaN</td>\n",
              "      <td>NaN</td>\n",
              "      <td>NaN</td>\n",
              "    </tr>\n",
              "    <tr>\n",
              "      <th>min</th>\n",
              "      <td>NaN</td>\n",
              "      <td>2016.000000</td>\n",
              "      <td>NaN</td>\n",
              "      <td>NaN</td>\n",
              "      <td>NaN</td>\n",
              "      <td>NaN</td>\n",
              "      <td>0.000000</td>\n",
              "      <td>16.000000</td>\n",
              "      <td>NaN</td>\n",
              "      <td>NaN</td>\n",
              "      <td>NaN</td>\n",
              "      <td>NaN</td>\n",
              "      <td>NaN</td>\n",
              "    </tr>\n",
              "    <tr>\n",
              "      <th>25%</th>\n",
              "      <td>NaN</td>\n",
              "      <td>2016.000000</td>\n",
              "      <td>NaN</td>\n",
              "      <td>NaN</td>\n",
              "      <td>NaN</td>\n",
              "      <td>NaN</td>\n",
              "      <td>2.000000</td>\n",
              "      <td>26.000000</td>\n",
              "      <td>NaN</td>\n",
              "      <td>NaN</td>\n",
              "      <td>NaN</td>\n",
              "      <td>NaN</td>\n",
              "      <td>NaN</td>\n",
              "    </tr>\n",
              "    <tr>\n",
              "      <th>50%</th>\n",
              "      <td>NaN</td>\n",
              "      <td>2017.000000</td>\n",
              "      <td>NaN</td>\n",
              "      <td>NaN</td>\n",
              "      <td>NaN</td>\n",
              "      <td>NaN</td>\n",
              "      <td>3.000000</td>\n",
              "      <td>35.000000</td>\n",
              "      <td>NaN</td>\n",
              "      <td>NaN</td>\n",
              "      <td>NaN</td>\n",
              "      <td>NaN</td>\n",
              "      <td>NaN</td>\n",
              "    </tr>\n",
              "    <tr>\n",
              "      <th>75%</th>\n",
              "      <td>NaN</td>\n",
              "      <td>2018.000000</td>\n",
              "      <td>NaN</td>\n",
              "      <td>NaN</td>\n",
              "      <td>NaN</td>\n",
              "      <td>NaN</td>\n",
              "      <td>5.000000</td>\n",
              "      <td>49.000000</td>\n",
              "      <td>NaN</td>\n",
              "      <td>NaN</td>\n",
              "      <td>NaN</td>\n",
              "      <td>NaN</td>\n",
              "      <td>NaN</td>\n",
              "    </tr>\n",
              "    <tr>\n",
              "      <th>max</th>\n",
              "      <td>NaN</td>\n",
              "      <td>2056.000000</td>\n",
              "      <td>NaN</td>\n",
              "      <td>NaN</td>\n",
              "      <td>NaN</td>\n",
              "      <td>NaN</td>\n",
              "      <td>21.000000</td>\n",
              "      <td>100.000000</td>\n",
              "      <td>NaN</td>\n",
              "      <td>NaN</td>\n",
              "      <td>NaN</td>\n",
              "      <td>NaN</td>\n",
              "      <td>NaN</td>\n",
              "    </tr>\n",
              "  </tbody>\n",
              "</table>\n",
              "</div>"
            ],
            "text/plain": [
              "       country          year  ... Level of Educuation    Type of Job\n",
              "count    23510  23524.000000  ...               23495          23494\n",
              "unique       4           NaN  ...                   7             10\n",
              "top     Rwanda           NaN  ...   Primary education  Self employed\n",
              "freq      8735           NaN  ...               12775           6428\n",
              "mean       NaN   2016.979000  ...                 NaN            NaN\n",
              "std        NaN      0.899669  ...                 NaN            NaN\n",
              "min        NaN   2016.000000  ...                 NaN            NaN\n",
              "25%        NaN   2016.000000  ...                 NaN            NaN\n",
              "50%        NaN   2017.000000  ...                 NaN            NaN\n",
              "75%        NaN   2018.000000  ...                 NaN            NaN\n",
              "max        NaN   2056.000000  ...                 NaN            NaN\n",
              "\n",
              "[11 rows x 13 columns]"
            ]
          },
          "metadata": {
            "tags": []
          },
          "execution_count": 66
        }
      ]
    },
    {
      "cell_type": "code",
      "metadata": {
        "id": "VFphNBRAPATG",
        "colab_type": "code",
        "outputId": "e7cd6b79-3cac-4583-f7e0-941b23f4e17b",
        "colab": {
          "base_uri": "https://localhost:8080/",
          "height": 313
        }
      },
      "source": [
        "# Previewing the bottom of our dataset\n",
        "# \n",
        "df.tail()"
      ],
      "execution_count": 67,
      "outputs": [
        {
          "output_type": "execute_result",
          "data": {
            "text/html": [
              "<div>\n",
              "<style scoped>\n",
              "    .dataframe tbody tr th:only-of-type {\n",
              "        vertical-align: middle;\n",
              "    }\n",
              "\n",
              "    .dataframe tbody tr th {\n",
              "        vertical-align: top;\n",
              "    }\n",
              "\n",
              "    .dataframe thead th {\n",
              "        text-align: right;\n",
              "    }\n",
              "</style>\n",
              "<table border=\"1\" class=\"dataframe\">\n",
              "  <thead>\n",
              "    <tr style=\"text-align: right;\">\n",
              "      <th></th>\n",
              "      <th>country</th>\n",
              "      <th>year</th>\n",
              "      <th>uniqueid</th>\n",
              "      <th>Has a Bank account</th>\n",
              "      <th>Type of Location</th>\n",
              "      <th>Cell Phone Access</th>\n",
              "      <th>household_size</th>\n",
              "      <th>Respondent Age</th>\n",
              "      <th>gender_of_respondent</th>\n",
              "      <th>The relathip with head</th>\n",
              "      <th>marital_status</th>\n",
              "      <th>Level of Educuation</th>\n",
              "      <th>Type of Job</th>\n",
              "    </tr>\n",
              "  </thead>\n",
              "  <tbody>\n",
              "    <tr>\n",
              "      <th>23519</th>\n",
              "      <td>Uganda</td>\n",
              "      <td>2018</td>\n",
              "      <td>uniqueid_2113</td>\n",
              "      <td>No</td>\n",
              "      <td>Rural</td>\n",
              "      <td>Yes</td>\n",
              "      <td>4.0</td>\n",
              "      <td>48.0</td>\n",
              "      <td>Female</td>\n",
              "      <td>Head of Household</td>\n",
              "      <td>Divorced/Seperated</td>\n",
              "      <td>No formal education</td>\n",
              "      <td>Other Income</td>\n",
              "    </tr>\n",
              "    <tr>\n",
              "      <th>23520</th>\n",
              "      <td>Uganda</td>\n",
              "      <td>2018</td>\n",
              "      <td>uniqueid_2114</td>\n",
              "      <td>No</td>\n",
              "      <td>Rural</td>\n",
              "      <td>Yes</td>\n",
              "      <td>2.0</td>\n",
              "      <td>27.0</td>\n",
              "      <td>Female</td>\n",
              "      <td>Head of Household</td>\n",
              "      <td>Single/Never Married</td>\n",
              "      <td>Secondary education</td>\n",
              "      <td>Other Income</td>\n",
              "    </tr>\n",
              "    <tr>\n",
              "      <th>23521</th>\n",
              "      <td>Uganda</td>\n",
              "      <td>2018</td>\n",
              "      <td>uniqueid_2115</td>\n",
              "      <td>No</td>\n",
              "      <td>Rural</td>\n",
              "      <td>Yes</td>\n",
              "      <td>5.0</td>\n",
              "      <td>27.0</td>\n",
              "      <td>Female</td>\n",
              "      <td>Parent</td>\n",
              "      <td>Widowed</td>\n",
              "      <td>Primary education</td>\n",
              "      <td>Other Income</td>\n",
              "    </tr>\n",
              "    <tr>\n",
              "      <th>23522</th>\n",
              "      <td>Uganda</td>\n",
              "      <td>2018</td>\n",
              "      <td>uniqueid_2116</td>\n",
              "      <td>No</td>\n",
              "      <td>Urban</td>\n",
              "      <td>Yes</td>\n",
              "      <td>7.0</td>\n",
              "      <td>30.0</td>\n",
              "      <td>Female</td>\n",
              "      <td>Parent</td>\n",
              "      <td>Divorced/Seperated</td>\n",
              "      <td>Secondary education</td>\n",
              "      <td>Self employed</td>\n",
              "    </tr>\n",
              "    <tr>\n",
              "      <th>23523</th>\n",
              "      <td>Uganda</td>\n",
              "      <td>2018</td>\n",
              "      <td>uniqueid_2117</td>\n",
              "      <td>No</td>\n",
              "      <td>Rural</td>\n",
              "      <td>Yes</td>\n",
              "      <td>10.0</td>\n",
              "      <td>20.0</td>\n",
              "      <td>Male</td>\n",
              "      <td>Child</td>\n",
              "      <td>Single/Never Married</td>\n",
              "      <td>Secondary education</td>\n",
              "      <td>No Income</td>\n",
              "    </tr>\n",
              "  </tbody>\n",
              "</table>\n",
              "</div>"
            ],
            "text/plain": [
              "      country  year  ...  Level of Educuation    Type of Job\n",
              "23519  Uganda  2018  ...  No formal education   Other Income\n",
              "23520  Uganda  2018  ...  Secondary education   Other Income\n",
              "23521  Uganda  2018  ...    Primary education   Other Income\n",
              "23522  Uganda  2018  ...  Secondary education  Self employed\n",
              "23523  Uganda  2018  ...  Secondary education      No Income\n",
              "\n",
              "[5 rows x 13 columns]"
            ]
          },
          "metadata": {
            "tags": []
          },
          "execution_count": 67
        }
      ]
    },
    {
      "cell_type": "code",
      "metadata": {
        "id": "JfpT2IuEZ03K",
        "colab_type": "code",
        "outputId": "86ef6533-383c-4fa1-9e98-fa1756b97622",
        "colab": {
          "base_uri": "https://localhost:8080/",
          "height": 33
        }
      },
      "source": [
        "# Checking the shape of the dataframe\n",
        "#\n",
        "df.shape"
      ],
      "execution_count": 68,
      "outputs": [
        {
          "output_type": "execute_result",
          "data": {
            "text/plain": [
              "(23524, 13)"
            ]
          },
          "metadata": {
            "tags": []
          },
          "execution_count": 68
        }
      ]
    },
    {
      "cell_type": "code",
      "metadata": {
        "id": "d8LtFKjIZ843",
        "colab_type": "code",
        "outputId": "5e900cca-7dc9-4be2-867a-bc917d8fccb0",
        "colab": {
          "base_uri": "https://localhost:8080/",
          "height": 33
        }
      },
      "source": [
        "# Checking for the size of the dataframe\n",
        "#\n",
        "df.size"
      ],
      "execution_count": 69,
      "outputs": [
        {
          "output_type": "execute_result",
          "data": {
            "text/plain": [
              "305812"
            ]
          },
          "metadata": {
            "tags": []
          },
          "execution_count": 69
        }
      ]
    },
    {
      "cell_type": "markdown",
      "metadata": {
        "id": "C6j-KuA7RM_U",
        "colab_type": "text"
      },
      "source": [
        "##Tidying the dataset"
      ]
    },
    {
      "cell_type": "markdown",
      "metadata": {
        "id": "R2D3Aa05TGjZ",
        "colab_type": "text"
      },
      "source": [
        "### Renaming columns"
      ]
    },
    {
      "cell_type": "code",
      "metadata": {
        "id": "ppCwvGFJPBkr",
        "colab_type": "code",
        "colab": {}
      },
      "source": [
        "# Tidying the column names for easier referencing\n",
        "# First the column names are changed to lower case\n",
        "# and then spaces in the column names are replaced with an underscore\n",
        "#\n",
        "df.columns = df.columns.str.lower().str.replace(' ', '_')"
      ],
      "execution_count": 0,
      "outputs": []
    },
    {
      "cell_type": "code",
      "metadata": {
        "id": "07e44jqnRE_c",
        "colab_type": "code",
        "outputId": "ebd202df-adcf-43be-9757-2b90ffcea750",
        "colab": {
          "base_uri": "https://localhost:8080/",
          "height": 100
        }
      },
      "source": [
        "# Previewing the column names to confirm whether they have been renamed successfully\n",
        "#\n",
        "df.columns"
      ],
      "execution_count": 71,
      "outputs": [
        {
          "output_type": "execute_result",
          "data": {
            "text/plain": [
              "Index(['country', 'year', 'uniqueid', 'has_a_bank_account', 'type_of_location',\n",
              "       'cell_phone_access', 'household_size', 'respondent_age',\n",
              "       'gender_of_respondent', 'the_relathip_with_head', 'marital_status',\n",
              "       'level_of_educuation', 'type_of_job'],\n",
              "      dtype='object')"
            ]
          },
          "metadata": {
            "tags": []
          },
          "execution_count": 71
        }
      ]
    },
    {
      "cell_type": "code",
      "metadata": {
        "id": "6w9ZbbgV90fH",
        "colab_type": "code",
        "outputId": "0713ab64-b870-4dff-9290-3f71cc9ee913",
        "colab": {
          "base_uri": "https://localhost:8080/",
          "height": 100
        }
      },
      "source": [
        "# Removing typos from columns\n",
        "#\n",
        "df.rename(columns={'the_relathip_with_head':'the_relationship_with_head', 'level_of_educuation':'level_of_education' }, inplace=True)\n",
        "df.columns"
      ],
      "execution_count": 72,
      "outputs": [
        {
          "output_type": "execute_result",
          "data": {
            "text/plain": [
              "Index(['country', 'year', 'uniqueid', 'has_a_bank_account', 'type_of_location',\n",
              "       'cell_phone_access', 'household_size', 'respondent_age',\n",
              "       'gender_of_respondent', 'the_relationship_with_head', 'marital_status',\n",
              "       'level_of_education', 'type_of_job'],\n",
              "      dtype='object')"
            ]
          },
          "metadata": {
            "tags": []
          },
          "execution_count": 72
        }
      ]
    },
    {
      "cell_type": "markdown",
      "metadata": {
        "id": "ZKgTA_hYTLvd",
        "colab_type": "text"
      },
      "source": [
        "### Changing column datatypes"
      ]
    },
    {
      "cell_type": "code",
      "metadata": {
        "id": "lrr3ATRwRE-X",
        "colab_type": "code",
        "outputId": "90be8b87-7e32-4b0e-bb28-c98fa70cce01",
        "colab": {
          "base_uri": "https://localhost:8080/",
          "height": 251
        }
      },
      "source": [
        "# Checking whether each column has an appropriate datatype\n",
        "#\n",
        "df.dtypes"
      ],
      "execution_count": 73,
      "outputs": [
        {
          "output_type": "execute_result",
          "data": {
            "text/plain": [
              "country                        object\n",
              "year                            int64\n",
              "uniqueid                       object\n",
              "has_a_bank_account             object\n",
              "type_of_location               object\n",
              "cell_phone_access              object\n",
              "household_size                float64\n",
              "respondent_age                float64\n",
              "gender_of_respondent           object\n",
              "the_relationship_with_head     object\n",
              "marital_status                 object\n",
              "level_of_education             object\n",
              "type_of_job                    object\n",
              "dtype: object"
            ]
          },
          "metadata": {
            "tags": []
          },
          "execution_count": 73
        }
      ]
    },
    {
      "cell_type": "code",
      "metadata": {
        "id": "v1KUnuEpRE5e",
        "colab_type": "code",
        "colab": {}
      },
      "source": [
        "# Changing the column datatypes to appriopriate datatypes\n",
        "# All the columns other than household_size and respondent_age are categorical\n",
        "# A for loop is used to iterate through the columns and changing them to categorical dtypes\n",
        "#\n",
        "for column in df[df.columns.difference(['household_size', 'respondent_age'])].columns: # selecting all the columns excluding the household_size and respondent_age columns\n",
        "  df[column] = df[column].astype('category') # Changing dtype each column to categorical datatype"
      ],
      "execution_count": 0,
      "outputs": []
    },
    {
      "cell_type": "code",
      "metadata": {
        "id": "eaZhu_ubRE08",
        "colab_type": "code",
        "outputId": "faa90d6f-6a38-4081-ffa6-db29232778d8",
        "colab": {
          "base_uri": "https://localhost:8080/",
          "height": 251
        }
      },
      "source": [
        "# Previewing the datatypes to confirm whether the datatypes have been converted appriopriately\n",
        "#\n",
        "df.dtypes"
      ],
      "execution_count": 75,
      "outputs": [
        {
          "output_type": "execute_result",
          "data": {
            "text/plain": [
              "country                       category\n",
              "year                          category\n",
              "uniqueid                      category\n",
              "has_a_bank_account            category\n",
              "type_of_location              category\n",
              "cell_phone_access             category\n",
              "household_size                 float64\n",
              "respondent_age                 float64\n",
              "gender_of_respondent          category\n",
              "the_relationship_with_head    category\n",
              "marital_status                category\n",
              "level_of_education            category\n",
              "type_of_job                   category\n",
              "dtype: object"
            ]
          },
          "metadata": {
            "tags": []
          },
          "execution_count": 75
        }
      ]
    },
    {
      "cell_type": "markdown",
      "metadata": {
        "id": "i_pqBbI2TSnS",
        "colab_type": "text"
      },
      "source": [
        "### Dealing with missing data"
      ]
    },
    {
      "cell_type": "code",
      "metadata": {
        "id": "KIx8uHWLUUb-",
        "colab_type": "code",
        "outputId": "0e54a32b-316d-4f27-c010-251a75c81c36",
        "colab": {
          "base_uri": "https://localhost:8080/",
          "height": 251
        }
      },
      "source": [
        "# Identifying the Missing Data\n",
        "# Previewing the sum of all missing values together with the column name\n",
        "#\n",
        "df.isnull().sum()"
      ],
      "execution_count": 76,
      "outputs": [
        {
          "output_type": "execute_result",
          "data": {
            "text/plain": [
              "country                       14\n",
              "year                           0\n",
              "uniqueid                       0\n",
              "has_a_bank_account            36\n",
              "type_of_location              15\n",
              "cell_phone_access             11\n",
              "household_size                28\n",
              "respondent_age                34\n",
              "gender_of_respondent          34\n",
              "the_relationship_with_head     4\n",
              "marital_status                32\n",
              "level_of_education            29\n",
              "type_of_job                   30\n",
              "dtype: int64"
            ]
          },
          "metadata": {
            "tags": []
          },
          "execution_count": 76
        }
      ]
    },
    {
      "cell_type": "code",
      "metadata": {
        "id": "t4er9PTRUUaT",
        "colab_type": "code",
        "colab": {}
      },
      "source": [
        "# Dealing with the Missing Data\n",
        "# For categorical columns, missing data will be filled with the mode\n",
        "# For numerical columns, missing data will be filled with the mean\n",
        "# A list of categirical and numerical columns have been created for conveniency\n",
        "#\n",
        "all_columns = list(df.columns)         # Creating a list of all columns\n",
        "all_columns.remove('household_size')   # Removing the houshold_size column from the list\n",
        "all_columns.remove('respondent_age')   # Removing the respondent_age column from the list\n",
        "\n",
        "categorical_columns = all_columns      # Creating a list of only categorical columns\n",
        "\n",
        "numerical_columns = ['household_size', 'respondent_age'] # Creating a list of numerical columns\n",
        "\n",
        "for column in categorical_columns:\n",
        "  df[column] = df[column].fillna(df[column].mode().iloc[0])\n",
        "  \n",
        "for column in numerical_columns:\n",
        "  df[column] = df[column].fillna(df[column].mean())\n"
      ],
      "execution_count": 0,
      "outputs": []
    },
    {
      "cell_type": "code",
      "metadata": {
        "id": "VGj6i89uUUU6",
        "colab_type": "code",
        "outputId": "8108b0a6-67b6-46ce-81ee-c2a0fddbef8d",
        "colab": {
          "base_uri": "https://localhost:8080/",
          "height": 251
        }
      },
      "source": [
        "# Previewing the sum of missing values of the columns to ascertain the changes\n",
        "#\n",
        "df.isnull().sum()"
      ],
      "execution_count": 78,
      "outputs": [
        {
          "output_type": "execute_result",
          "data": {
            "text/plain": [
              "country                       0\n",
              "year                          0\n",
              "uniqueid                      0\n",
              "has_a_bank_account            0\n",
              "type_of_location              0\n",
              "cell_phone_access             0\n",
              "household_size                0\n",
              "respondent_age                0\n",
              "gender_of_respondent          0\n",
              "the_relationship_with_head    0\n",
              "marital_status                0\n",
              "level_of_education            0\n",
              "type_of_job                   0\n",
              "dtype: int64"
            ]
          },
          "metadata": {
            "tags": []
          },
          "execution_count": 78
        }
      ]
    },
    {
      "cell_type": "markdown",
      "metadata": {
        "id": "9x_WjtalTgs7",
        "colab_type": "text"
      },
      "source": [
        "### Checking for consistency and uniformity"
      ]
    },
    {
      "cell_type": "code",
      "metadata": {
        "id": "Z4FFy4swUUSc",
        "colab_type": "code",
        "outputId": "e1a60e35-d2cd-4783-b75c-b9be8b9cfccf",
        "colab": {
          "base_uri": "https://localhost:8080/",
          "height": 1000
        }
      },
      "source": [
        "# Checking for consistency and uniformity\n",
        "# A for loop is used to print out the unique values for each column\n",
        "#\n",
        "for column in df.columns:        # Iterating through each column in the dataframe\n",
        "  print('\\n')                    # Creating a new line for better readability\n",
        "  print(df[column].nunique())    # Printing the number of unique values in each column\n",
        "  print(df[column].unique())     # Printing only unique values in each column"
      ],
      "execution_count": 79,
      "outputs": [
        {
          "output_type": "stream",
          "text": [
            "\n",
            "\n",
            "4\n",
            "[Kenya, Rwanda, Tanzania, Uganda]\n",
            "Categories (4, object): [Kenya, Rwanda, Tanzania, Uganda]\n",
            "\n",
            "\n",
            "6\n",
            "[2018, 2029, 2056, 2016, 2039, 2017]\n",
            "Categories (6, int64): [2018, 2029, 2056, 2016, 2039, 2017]\n",
            "\n",
            "\n",
            "8735\n",
            "[uniqueid_1, uniqueid_2, uniqueid_3, uniqueid_4, uniqueid_5, ..., uniqueid_8755, uniqueid_8756, uniqueid_8757, uniqueid_8758, uniqueid_8759]\n",
            "Length: 8735\n",
            "Categories (8735, object): [uniqueid_1, uniqueid_2, uniqueid_3, uniqueid_4, ..., uniqueid_8756,\n",
            "                            uniqueid_8757, uniqueid_8758, uniqueid_8759]\n",
            "\n",
            "\n",
            "2\n",
            "[Yes, No]\n",
            "Categories (2, object): [Yes, No]\n",
            "\n",
            "\n",
            "2\n",
            "[Rural, Urban]\n",
            "Categories (2, object): [Rural, Urban]\n",
            "\n",
            "\n",
            "2\n",
            "[Yes, No]\n",
            "Categories (2, object): [Yes, No]\n",
            "\n",
            "\n",
            "22\n",
            "[ 3.          5.          8.          7.          1.          6.\n",
            "  4.         10.          2.         11.          9.         12.\n",
            " 16.         15.         13.         14.         21.          3.68181818\n",
            "  0.         18.         17.         20.        ]\n",
            "\n",
            "\n",
            "86\n",
            "[ 24.         70.         26.         34.         32.         42.\n",
            "  54.         76.         40.         69.         64.         31.\n",
            "  38.         47.         27.         48.         25.         21.\n",
            "  18.         22.         58.         55.         62.         29.\n",
            "  35.         45.         67.         19.         80.         66.\n",
            "  50.         33.         28.         51.         16.         17.\n",
            "  30.         37.         59.         65.         46.         56.\n",
            "  52.         23.         43.         49.         44.         72.\n",
            "  53.         63.         39.         81.         78.         36.\n",
            "  20.         60.         95.         71.         57.         85.\n",
            "  68.         41.         61.         75.         86.         73.\n",
            "  38.8042997  93.         74.         88.         90.         77.\n",
            "  84.         82.         89.         79.         83.         94.\n",
            "  87.         92.         91.         98.         97.         96.\n",
            "  99.        100.       ]\n",
            "\n",
            "\n",
            "2\n",
            "[Female, Male]\n",
            "Categories (2, object): [Female, Male]\n",
            "\n",
            "\n",
            "6\n",
            "[Spouse, Head of Household, Other relative, Child, Parent, Other non-relatives]\n",
            "Categories (6, object): [Spouse, Head of Household, Other relative, Child, Parent,\n",
            "                         Other non-relatives]\n",
            "\n",
            "\n",
            "5\n",
            "[Married/Living together, Widowed, Single/Never Married, Divorced/Seperated, Dont know]\n",
            "Categories (5, object): [Married/Living together, Widowed, Single/Never Married, Divorced/Seperated, Dont know]\n",
            "\n",
            "\n",
            "7\n",
            "[Secondary education, No formal education, Vocational/Specialised training, Primary education, Tertiary education, Other/Dont know/RTA, 6]\n",
            "Categories (7, object): [Secondary education, No formal education, Vocational/Specialised training,\n",
            "                         Primary education, Tertiary education, Other/Dont know/RTA, 6]\n",
            "\n",
            "\n",
            "10\n",
            "[Self employed, Government Dependent, Formally employed Private, Informally employed, Formally employed Government, Farming and Fishing, Remittance Dependent, Other Income, Dont Know/Refuse to answer, No Income]\n",
            "Categories (10, object): [Self employed, Government Dependent, Formally employed Private,\n",
            "                          Informally employed, ..., Remittance Dependent, Other Income,\n",
            "                          Dont Know/Refuse to answer, No Income]\n"
          ],
          "name": "stdout"
        }
      ]
    },
    {
      "cell_type": "code",
      "metadata": {
        "id": "YDYtTrPUUUP8",
        "colab_type": "code",
        "colab": {}
      },
      "source": [
        "# Checking for Anomalies\n",
        "# The year column has years 2029, 2056 and 2039 which are anomalies that should be removed\n",
        "#\n",
        "df = df[~((df.year == 2056) | (df.year == 2029) | (df.year == 2039 ))] # selecting all years other than 2029, 2056 and 2039"
      ],
      "execution_count": 0,
      "outputs": []
    },
    {
      "cell_type": "code",
      "metadata": {
        "id": "GEcNxPQNMD7G",
        "colab_type": "code",
        "colab": {}
      },
      "source": [
        "# Dropping columns which are irrevant in answering the research question\n",
        "# The year column is dropped as the prediction is for individuals who are most likely to have or use a bank account in the future\n",
        "# The unique id column is also dropped as it has no meaningful information \n",
        "df.drop(['uniqueid', 'year'], axis = 1, inplace = True)"
      ],
      "execution_count": 0,
      "outputs": []
    },
    {
      "cell_type": "markdown",
      "metadata": {
        "id": "hFmyjK8UQga8",
        "colab_type": "text"
      },
      "source": [
        "### Checking for outliers"
      ]
    },
    {
      "cell_type": "code",
      "metadata": {
        "id": "HYKvGWhnQkqh",
        "colab_type": "code",
        "outputId": "b56c7946-3bd2-4a1e-8c95-ddeb86907599",
        "colab": {
          "base_uri": "https://localhost:8080/",
          "height": 67
        }
      },
      "source": [
        "# Checking for outliers using the inter quantile range\n",
        "# Checking for outliers in the respondent age column\n",
        "#\n",
        "Q1 = df.respondent_age.quantile(0.25)\n",
        "Q3 = df.respondent_age.quantile(0.75)\n",
        "\n",
        "IQR = Q3 - Q1\n",
        "\n",
        "res_outliers = ((df.respondent_age < Q1 - 1.5 * IQR) | (df.respondent_age > Q3 + 1.5 * IQR))\n",
        "res_outliers.value_counts()"
      ],
      "execution_count": 82,
      "outputs": [
        {
          "output_type": "execute_result",
          "data": {
            "text/plain": [
              "False    23280\n",
              "True       241\n",
              "Name: respondent_age, dtype: int64"
            ]
          },
          "metadata": {
            "tags": []
          },
          "execution_count": 82
        }
      ]
    },
    {
      "cell_type": "code",
      "metadata": {
        "id": "A_wZXgaUAFdM",
        "colab_type": "code",
        "colab": {}
      },
      "source": [
        "# There are 241 outliers in the respondent_age column"
      ],
      "execution_count": 0,
      "outputs": []
    },
    {
      "cell_type": "code",
      "metadata": {
        "id": "VR2vFDggRjYk",
        "colab_type": "code",
        "outputId": "536dabd9-d8ed-42e8-a467-86d98faff705",
        "colab": {
          "base_uri": "https://localhost:8080/",
          "height": 67
        }
      },
      "source": [
        "# Checking for outliers using the inter quantile range\n",
        "# Checking for outliers in the household size column\n",
        "#\n",
        "Q1 = df.household_size.quantile(0.25)\n",
        "Q3 = df.household_size.quantile(0.75)\n",
        "\n",
        "IQR = Q3 - Q1\n",
        "\n",
        "hse_outliers = ((df.household_size < Q1 - 1.5 * IQR) | (df.household_size > Q3 + 1.5 * IQR))\n",
        "hse_outliers.value_counts()"
      ],
      "execution_count": 84,
      "outputs": [
        {
          "output_type": "execute_result",
          "data": {
            "text/plain": [
              "False    23144\n",
              "True       377\n",
              "Name: household_size, dtype: int64"
            ]
          },
          "metadata": {
            "tags": []
          },
          "execution_count": 84
        }
      ]
    },
    {
      "cell_type": "code",
      "metadata": {
        "id": "31v18xcrAPiW",
        "colab_type": "code",
        "colab": {}
      },
      "source": [
        "# There are 377 outliers in the household_size column"
      ],
      "execution_count": 0,
      "outputs": []
    },
    {
      "cell_type": "markdown",
      "metadata": {
        "id": "ZQzdlqNoSwqh",
        "colab_type": "text"
      },
      "source": [
        "### Dealing with duplicated data"
      ]
    },
    {
      "cell_type": "code",
      "metadata": {
        "id": "k0Nfu0clSvAE",
        "colab_type": "code",
        "outputId": "81fe5729-4073-4b07-8777-d93381bba592",
        "colab": {
          "base_uri": "https://localhost:8080/",
          "height": 300
        }
      },
      "source": [
        "# Checking for and displaying duplicated rows\n",
        "#\n",
        "df[df.duplicated()].head()"
      ],
      "execution_count": 86,
      "outputs": [
        {
          "output_type": "execute_result",
          "data": {
            "text/html": [
              "<div>\n",
              "<style scoped>\n",
              "    .dataframe tbody tr th:only-of-type {\n",
              "        vertical-align: middle;\n",
              "    }\n",
              "\n",
              "    .dataframe tbody tr th {\n",
              "        vertical-align: top;\n",
              "    }\n",
              "\n",
              "    .dataframe thead th {\n",
              "        text-align: right;\n",
              "    }\n",
              "</style>\n",
              "<table border=\"1\" class=\"dataframe\">\n",
              "  <thead>\n",
              "    <tr style=\"text-align: right;\">\n",
              "      <th></th>\n",
              "      <th>country</th>\n",
              "      <th>has_a_bank_account</th>\n",
              "      <th>type_of_location</th>\n",
              "      <th>cell_phone_access</th>\n",
              "      <th>household_size</th>\n",
              "      <th>respondent_age</th>\n",
              "      <th>gender_of_respondent</th>\n",
              "      <th>the_relationship_with_head</th>\n",
              "      <th>marital_status</th>\n",
              "      <th>level_of_education</th>\n",
              "      <th>type_of_job</th>\n",
              "    </tr>\n",
              "  </thead>\n",
              "  <tbody>\n",
              "    <tr>\n",
              "      <th>163</th>\n",
              "      <td>Kenya</td>\n",
              "      <td>No</td>\n",
              "      <td>Rural</td>\n",
              "      <td>Yes</td>\n",
              "      <td>4.0</td>\n",
              "      <td>25.0</td>\n",
              "      <td>Female</td>\n",
              "      <td>Spouse</td>\n",
              "      <td>Married/Living together</td>\n",
              "      <td>Primary education</td>\n",
              "      <td>Self employed</td>\n",
              "    </tr>\n",
              "    <tr>\n",
              "      <th>229</th>\n",
              "      <td>Kenya</td>\n",
              "      <td>No</td>\n",
              "      <td>Rural</td>\n",
              "      <td>No</td>\n",
              "      <td>3.0</td>\n",
              "      <td>70.0</td>\n",
              "      <td>Male</td>\n",
              "      <td>Head of Household</td>\n",
              "      <td>Married/Living together</td>\n",
              "      <td>No formal education</td>\n",
              "      <td>Farming and Fishing</td>\n",
              "    </tr>\n",
              "    <tr>\n",
              "      <th>321</th>\n",
              "      <td>Kenya</td>\n",
              "      <td>No</td>\n",
              "      <td>Urban</td>\n",
              "      <td>Yes</td>\n",
              "      <td>2.0</td>\n",
              "      <td>28.0</td>\n",
              "      <td>Female</td>\n",
              "      <td>Head of Household</td>\n",
              "      <td>Single/Never Married</td>\n",
              "      <td>Primary education</td>\n",
              "      <td>Self employed</td>\n",
              "    </tr>\n",
              "    <tr>\n",
              "      <th>482</th>\n",
              "      <td>Kenya</td>\n",
              "      <td>No</td>\n",
              "      <td>Urban</td>\n",
              "      <td>Yes</td>\n",
              "      <td>4.0</td>\n",
              "      <td>34.0</td>\n",
              "      <td>Male</td>\n",
              "      <td>Head of Household</td>\n",
              "      <td>Married/Living together</td>\n",
              "      <td>Primary education</td>\n",
              "      <td>Informally employed</td>\n",
              "    </tr>\n",
              "    <tr>\n",
              "      <th>599</th>\n",
              "      <td>Kenya</td>\n",
              "      <td>No</td>\n",
              "      <td>Rural</td>\n",
              "      <td>No</td>\n",
              "      <td>7.0</td>\n",
              "      <td>16.0</td>\n",
              "      <td>Female</td>\n",
              "      <td>Child</td>\n",
              "      <td>Single/Never Married</td>\n",
              "      <td>Primary education</td>\n",
              "      <td>Remittance Dependent</td>\n",
              "    </tr>\n",
              "  </tbody>\n",
              "</table>\n",
              "</div>"
            ],
            "text/plain": [
              "    country has_a_bank_account  ...   level_of_education           type_of_job\n",
              "163   Kenya                 No  ...    Primary education         Self employed\n",
              "229   Kenya                 No  ...  No formal education   Farming and Fishing\n",
              "321   Kenya                 No  ...    Primary education         Self employed\n",
              "482   Kenya                 No  ...    Primary education   Informally employed\n",
              "599   Kenya                 No  ...    Primary education  Remittance Dependent\n",
              "\n",
              "[5 rows x 11 columns]"
            ]
          },
          "metadata": {
            "tags": []
          },
          "execution_count": 86
        }
      ]
    },
    {
      "cell_type": "code",
      "metadata": {
        "id": "f16adQ2HUGg6",
        "colab_type": "code",
        "outputId": "8213047b-d4c3-4980-fa8c-5ebf2d138259",
        "colab": {
          "base_uri": "https://localhost:8080/",
          "height": 33
        }
      },
      "source": [
        "# Checking for the number of duplicated rows\n",
        "#\n",
        "len(df[df.duplicated()])"
      ],
      "execution_count": 87,
      "outputs": [
        {
          "output_type": "execute_result",
          "data": {
            "text/plain": [
              "4393"
            ]
          },
          "metadata": {
            "tags": []
          },
          "execution_count": 87
        }
      ]
    },
    {
      "cell_type": "code",
      "metadata": {
        "id": "bYLRau5RAapV",
        "colab_type": "code",
        "colab": {}
      },
      "source": [
        "# 4393 rows have been duplicated"
      ],
      "execution_count": 0,
      "outputs": []
    },
    {
      "cell_type": "code",
      "metadata": {
        "id": "xxxyTci5Tump",
        "colab_type": "code",
        "colab": {}
      },
      "source": [
        "# Dropping Duplicates\n",
        "#\n",
        "df.drop_duplicates(inplace = True)"
      ],
      "execution_count": 0,
      "outputs": []
    },
    {
      "cell_type": "markdown",
      "metadata": {
        "id": "41zEWVwbca6F",
        "colab_type": "text"
      },
      "source": [
        "## Univariate Analysis"
      ]
    },
    {
      "cell_type": "markdown",
      "metadata": {
        "id": "3YwYbr96nM-6",
        "colab_type": "text"
      },
      "source": [
        "### Measures of central tendacy"
      ]
    },
    {
      "cell_type": "markdown",
      "metadata": {
        "id": "BSKMMJNwu3H5",
        "colab_type": "text"
      },
      "source": [
        "### **Mode**"
      ]
    },
    {
      "cell_type": "markdown",
      "metadata": {
        "id": "dK8MclYwvA3s",
        "colab_type": "text"
      },
      "source": [
        "### **Mean**"
      ]
    },
    {
      "cell_type": "code",
      "metadata": {
        "id": "K2OuwGIcouYR",
        "colab_type": "code",
        "outputId": "04870751-95e6-4251-9193-e59670301eb4",
        "colab": {
          "base_uri": "https://localhost:8080/",
          "height": 117
        }
      },
      "source": [
        "# Finding the mean of each numerical column\n",
        "#\n",
        "\n",
        "for column in numerical_columns:\n",
        "  print('\\n')\n",
        "  print(column + ': ' + str(df[column].median()))"
      ],
      "execution_count": 90,
      "outputs": [
        {
          "output_type": "stream",
          "text": [
            "\n",
            "\n",
            "household_size: 3.0\n",
            "\n",
            "\n",
            "respondent_age: 36.0\n"
          ],
          "name": "stdout"
        }
      ]
    },
    {
      "cell_type": "markdown",
      "metadata": {
        "id": "i4u33C23vHWz",
        "colab_type": "text"
      },
      "source": [
        "### **Median**"
      ]
    },
    {
      "cell_type": "code",
      "metadata": {
        "id": "Fe9WB9odo8z7",
        "colab_type": "code",
        "outputId": "a4bfa020-2fe9-4192-a484-7471099b3d37",
        "colab": {
          "base_uri": "https://localhost:8080/",
          "height": 117
        }
      },
      "source": [
        "# Finding the median of each numerical column\n",
        "#\n",
        "\n",
        "for column in numerical_columns:\n",
        "  print('\\n')\n",
        "  print(column + ': ' + str(df[column].mean()))"
      ],
      "execution_count": 91,
      "outputs": [
        {
          "output_type": "stream",
          "text": [
            "\n",
            "\n",
            "household_size: 3.7433819056309643\n",
            "\n",
            "\n",
            "respondent_age: 39.532075590242926\n"
          ],
          "name": "stdout"
        }
      ]
    },
    {
      "cell_type": "markdown",
      "metadata": {
        "id": "itXFwbkhvLLK",
        "colab_type": "text"
      },
      "source": [
        "### **Range**"
      ]
    },
    {
      "cell_type": "code",
      "metadata": {
        "id": "7R7coCxFpfHW",
        "colab_type": "code",
        "outputId": "13814144-993a-4478-ee39-c233fdfd6d5e",
        "colab": {
          "base_uri": "https://localhost:8080/",
          "height": 117
        }
      },
      "source": [
        "# Finding the range of each numerical column\n",
        "#\n",
        "def calculating_range(column):            # Creating a function that calculates range\n",
        "  maximum = df[column].max()              # Finding the maximum value in a column\n",
        "  minimum = df[column].min()              # Finding the minimum value in a column\n",
        "  column_range = maximum - minimum        # Calculating the difference between the maximum and minimum values\n",
        "  return column_range                     # Returning the calculated difference\n",
        "\n",
        "for column in numerical_columns:                              # Iterating through each clumn in the numerical_columns list\n",
        "  print('\\n')                                                 # Creating a new line for better readability\n",
        "  print(column + ' range: ' + str(calculating_range(column))) # Displaying the calculated range of each column"
      ],
      "execution_count": 92,
      "outputs": [
        {
          "output_type": "stream",
          "text": [
            "\n",
            "\n",
            "household_size range: 21.0\n",
            "\n",
            "\n",
            "respondent_age range: 84.0\n"
          ],
          "name": "stdout"
        }
      ]
    },
    {
      "cell_type": "markdown",
      "metadata": {
        "id": "SHOeUZc0vQwu",
        "colab_type": "text"
      },
      "source": [
        "### **Interquartile ranges**"
      ]
    },
    {
      "cell_type": "code",
      "metadata": {
        "id": "faeEx_pBsCk1",
        "colab_type": "code",
        "outputId": "9e206bd4-aa88-4d66-f026-073191a3bfb1",
        "colab": {
          "base_uri": "https://localhost:8080/",
          "height": 217
        }
      },
      "source": [
        "# Finding the quartiles of each numerical column\n",
        "#\n",
        "for column in numerical_columns:\n",
        "  print('\\n')\n",
        "  print(df[column].quantile([0.25, 0.5, 0.75]))"
      ],
      "execution_count": 93,
      "outputs": [
        {
          "output_type": "stream",
          "text": [
            "\n",
            "\n",
            "0.25    2.0\n",
            "0.50    3.0\n",
            "0.75    5.0\n",
            "Name: household_size, dtype: float64\n",
            "\n",
            "\n",
            "0.25    26.0\n",
            "0.50    36.0\n",
            "0.75    50.0\n",
            "Name: respondent_age, dtype: float64\n"
          ],
          "name": "stdout"
        }
      ]
    },
    {
      "cell_type": "markdown",
      "metadata": {
        "id": "m6hcvJ-yvWUy",
        "colab_type": "text"
      },
      "source": [
        "### **Standard deviation, Variance, Skewness and Kurtosis**"
      ]
    },
    {
      "cell_type": "code",
      "metadata": {
        "id": "vHACu6LFsCgI",
        "colab_type": "code",
        "outputId": "bb9d4e14-020e-45e0-e1c0-098282523543",
        "colab": {
          "base_uri": "https://localhost:8080/",
          "height": 217
        }
      },
      "source": [
        "# Finding the standard deviation, variance, skewness and kurtosis of each numerical column\n",
        "#\n",
        "for column in numerical_columns:\n",
        "  print('\\n')\n",
        "  print(column + ', std: '+ str(df[column].std()))\n",
        "  print(column + ', var: '+ str(df[column].var()))\n",
        "  print(column + ', skew: '+ str(df[column].skew()))\n",
        "  print(column + ', kurtosis: '+ str(df[column].kurt()))"
      ],
      "execution_count": 94,
      "outputs": [
        {
          "output_type": "stream",
          "text": [
            "\n",
            "\n",
            "household_size, std: 2.3578652266703974\n",
            "household_size, var: 5.559528427141444\n",
            "household_size, skew: 0.9726293412668999\n",
            "household_size, kurtosis: 1.1306436714929862\n",
            "\n",
            "\n",
            "respondent_age, std: 17.05432510604864\n",
            "respondent_age, var: 290.85000482280094\n",
            "respondent_age, skew: 0.7696299626119113\n",
            "respondent_age, kurtosis: -0.08827465360337428\n"
          ],
          "name": "stdout"
        }
      ]
    },
    {
      "cell_type": "markdown",
      "metadata": {
        "id": "R8d4ViEev_Bk",
        "colab_type": "text"
      },
      "source": [
        "### **Histograms**"
      ]
    },
    {
      "cell_type": "code",
      "metadata": {
        "id": "AtPSL2Wdscsa",
        "colab_type": "code",
        "colab": {}
      },
      "source": [
        "# For numerical columns, missing data will be filled with the mean\n",
        "# A list of categirical and numerical columns have been created for conveniency\n",
        "#\n",
        "all_columns = list(df.columns)         # Creating a list of all columns\n",
        "all_columns.remove('household_size')   # Removing the houshold_size column from the list\n",
        "all_columns.remove('respondent_age')   # Removing the respondent_age column from the list\n",
        "\n",
        "categorical_columns = all_columns      # Creating a list of only categorical columns"
      ],
      "execution_count": 0,
      "outputs": []
    },
    {
      "cell_type": "code",
      "metadata": {
        "id": "i3pqJNpxwafS",
        "colab_type": "code",
        "outputId": "54e619b1-43fa-45e1-9fe6-d7c67a9bc6cf",
        "colab": {
          "base_uri": "https://localhost:8080/",
          "height": 820
        }
      },
      "source": [
        "sns.set_style('darkgrid')\n",
        "fig, axes = plt.subplots(nrows=2, ncols = 1, figsize = (12, 11))\n",
        "fig.suptitle('Distributions of Numerical Features', y= 1.01, color = 'magenta', fontsize = 15)\n",
        "\n",
        "for ax, data, name in zip(axes.flatten(), df, numerical_columns):\n",
        "  sns.distplot(df[name], ax = ax, kde = False, color = 'maroon')\n",
        "plt.tight_layout()"
      ],
      "execution_count": 96,
      "outputs": [
        {
          "output_type": "display_data",
          "data": {
            "image/png": "[encoded data removed]",
            "text/plain": [
              "<Figure size 864x792 with 2 Axes>"
            ]
          },
          "metadata": {
            "tags": []
          }
        }
      ]
    },
    {
      "cell_type": "markdown",
      "metadata": {
        "id": "kDQ16UtAv-8c",
        "colab_type": "text"
      },
      "source": [
        "### **Bar charts**"
      ]
    },
    {
      "cell_type": "code",
      "metadata": {
        "id": "cHGtKz5BwZbY",
        "colab_type": "code",
        "outputId": "6c71fab1-58f3-4132-b2f6-bedecf2a93fb",
        "colab": {
          "base_uri": "https://localhost:8080/",
          "height": 549
        }
      },
      "source": [
        "# Bar charts of categorical columns according to the household_size\n",
        "#\n",
        "sns.set_style('darkgrid')                                             # Setting the grid style of plots to dark\n",
        "fig, axes = plt.subplots(nrows = 2, ncols = 2, figsize = (10, 7))     # Ceating four subplots, in two rows and two columns\n",
        "fig.subplots_adjust(hspace=0.5)\n",
        "fig.suptitle('Bar Charts for Categorical Features', y = 1.05, color = 'magenta', fontsize = 15)\n",
        "\n",
        "for ax, data, name in zip(axes.flatten(), df, categorical_columns):   # Iterating through the subplots\n",
        "  sns.barplot(df[name], df.household_size, ax = ax)                   # Creating a barchart in each subplot\n",
        "  \n",
        "plt.tight_layout()  # Fitting the subplots to avoid overlapping"
      ],
      "execution_count": 97,
      "outputs": [
        {
          "output_type": "display_data",
          "data": {
            "image/png": "[encoded data removed]",
            "text/plain": [
              "<Figure size 720x504 with 4 Axes>"
            ]
          },
          "metadata": {
            "tags": []
          }
        }
      ]
    },
    {
      "cell_type": "markdown",
      "metadata": {
        "id": "_CR68xS3wH1W",
        "colab_type": "text"
      },
      "source": [
        "### **Box plots**"
      ]
    },
    {
      "cell_type": "code",
      "metadata": {
        "id": "s2bBk16Q6a1Q",
        "colab_type": "code",
        "outputId": "be8b461b-c876-45e2-d5d8-3b0bddecccc4",
        "colab": {
          "base_uri": "https://localhost:8080/",
          "height": 504
        }
      },
      "source": [
        "fig, axes = plt.subplots(nrows = 1, ncols = 2, figsize = (15, 7))\n",
        "fig.suptitle('Box plot for numerical features', y= 1, color = 'magenta', fontsize = 15)\n",
        "\n",
        "for ax, data, name in zip(axes.flatten(), df, numerical_columns):\n",
        "  sns.boxplot(df[name], ax = ax)\n",
        "  ax.set_title('Box plot for '+ name)"
      ],
      "execution_count": 98,
      "outputs": [
        {
          "output_type": "display_data",
          "data": {
            "image/png": "[encoded data removed]",
            "text/plain": [
              "<Figure size 1080x504 with 2 Axes>"
            ]
          },
          "metadata": {
            "tags": []
          }
        }
      ]
    },
    {
      "cell_type": "code",
      "metadata": {
        "id": "FNZZSjcAY5vh",
        "colab_type": "code",
        "outputId": "8322fec0-ede2-4970-d81a-1ccc37b31014",
        "colab": {
          "base_uri": "https://localhost:8080/",
          "height": 641
        }
      },
      "source": [
        "fig, axes = plt.subplots(nrows = 2, ncols = 2, figsize = (15, 10))\n",
        "fig.suptitle('Box plot for categorical features', y= 0.93, color = 'magenta', fontsize = 15)\n",
        "\n",
        "for ax, data, name in zip(axes.flatten(), df, categorical_columns):\n",
        "  sns.boxplot(df[name], df.household_size, ax = ax)"
      ],
      "execution_count": 99,
      "outputs": [
        {
          "output_type": "display_data",
          "data": {
            "image/png": "[encoded data removed]",
            "text/plain": [
              "<Figure size 1080x720 with 4 Axes>"
            ]
          },
          "metadata": {
            "tags": []
          }
        }
      ]
    },
    {
      "cell_type": "markdown",
      "metadata": {
        "id": "w91b_wpnXkeN",
        "colab_type": "text"
      },
      "source": [
        "### **Pie charts**"
      ]
    },
    {
      "cell_type": "code",
      "metadata": {
        "id": "Ulebez1eXsHg",
        "colab_type": "code",
        "outputId": "932f0fe9-4dbd-46a2-d402-03aa4cd33990",
        "colab": {
          "base_uri": "https://localhost:8080/",
          "height": 675
        }
      },
      "source": [
        "fig, axes = plt.subplots(nrows=2, ncols=3, figsize=(15, 11))\n",
        "fig.suptitle('Pie charts for categorical features', y = 0.95, color = 'magenta', fontsize = 15)\n",
        "\n",
        "for ax, data, name in zip(axes.flatten(), df, categorical_columns):\n",
        "  labels = df.groupby(name).respondent_age.mean().index\n",
        "  data = df.groupby(name).respondent_age.mean().values\n",
        "  ax.pie(data,\n",
        "         labels = labels,\n",
        "         autopct='%1.1f%%',\n",
        "         shadow=True,\n",
        "         startangle=140)\n",
        "  ax.set_title('Pie chart for: '+ name)"
      ],
      "execution_count": 100,
      "outputs": [
        {
          "output_type": "display_data",
          "data": {
            "image/png": "[encoded data removed]",
            "text/plain": [
              "<Figure size 1080x792 with 6 Axes>"
            ]
          },
          "metadata": {
            "tags": []
          }
        }
      ]
    },
    {
      "cell_type": "markdown",
      "metadata": {
        "id": "HHNNI1UCmTbR",
        "colab_type": "text"
      },
      "source": [
        "### **Frequency tables**"
      ]
    },
    {
      "cell_type": "code",
      "metadata": {
        "id": "uAuffm6Xcp4r",
        "colab_type": "code",
        "outputId": "494945f8-f169-4f38-e779-e06c191cce6b",
        "colab": {
          "base_uri": "https://localhost:8080/",
          "height": 1000
        }
      },
      "source": [
        "# Creating Frequency table of each categorical column\n",
        "# \n",
        "for column in categorical_columns:     # Iterating through each column in the categorical columns list\n",
        "  print('\\n')                          # Creating a new line for better readability\n",
        "  print(df[column].value_counts())     # Printing a frequency table of each categorical column"
      ],
      "execution_count": 101,
      "outputs": [
        {
          "output_type": "stream",
          "text": [
            "\n",
            "\n",
            "Rwanda      6707\n",
            "Kenya       5615\n",
            "Tanzania    4831\n",
            "Uganda      1975\n",
            "Name: country, dtype: int64\n",
            "\n",
            "\n",
            "No     15985\n",
            "Yes     3143\n",
            "Name: has_a_bank_account, dtype: int64\n",
            "\n",
            "\n",
            "Rural    11748\n",
            "Urban     7380\n",
            "Name: type_of_location, dtype: int64\n",
            "\n",
            "\n",
            "Yes    14126\n",
            "No      5002\n",
            "Name: cell_phone_access, dtype: int64\n",
            "\n",
            "\n",
            "Female    11401\n",
            "Male       7727\n",
            "Name: gender_of_respondent, dtype: int64\n",
            "\n",
            "\n",
            "Head of Household      10624\n",
            "Spouse                  4731\n",
            "Child                   1910\n",
            "Parent                  1021\n",
            "Other relative           655\n",
            "Other non-relatives      187\n",
            "Name: the_relationship_with_head, dtype: int64\n",
            "\n",
            "\n",
            "Married/Living together    8705\n",
            "Single/Never Married       6059\n",
            "Widowed                    2403\n",
            "Divorced/Seperated         1953\n",
            "Dont know                     8\n",
            "Name: marital_status, dtype: int64\n",
            "\n",
            "\n",
            "Primary education                  9502\n",
            "No formal education                3906\n",
            "Secondary education                3823\n",
            "Tertiary education                 1084\n",
            "Vocational/Specialised training     779\n",
            "6                                    26\n",
            "Other/Dont know/RTA                   8\n",
            "Name: level_of_education, dtype: int64\n",
            "\n",
            "\n",
            "Self employed                   4902\n",
            "Informally employed             4531\n",
            "Farming and Fishing             4099\n",
            "Remittance Dependent            2226\n",
            "Other Income                    1050\n",
            "Formally employed Private       1002\n",
            "No Income                        573\n",
            "Formally employed Government     378\n",
            "Government Dependent             241\n",
            "Dont Know/Refuse to answer       126\n",
            "Name: type_of_job, dtype: int64\n"
          ],
          "name": "stdout"
        }
      ]
    },
    {
      "cell_type": "markdown",
      "metadata": {
        "id": "sEuiWMc09qNL",
        "colab_type": "text"
      },
      "source": [
        "## Bivariate analysis"
      ]
    },
    {
      "cell_type": "markdown",
      "metadata": {
        "id": "s5KiH5Fj_1Q-",
        "colab_type": "text"
      },
      "source": [
        "### **Scatter plot**"
      ]
    },
    {
      "cell_type": "code",
      "metadata": {
        "id": "4YxQgmsj9yAa",
        "colab_type": "code",
        "outputId": "c63a22a8-5d97-4b2d-f6ce-062fc8483d29",
        "colab": {
          "base_uri": "https://localhost:8080/",
          "height": 371
        }
      },
      "source": [
        "plt.figure(dpi = 90)\n",
        "sns.scatterplot(df.household_size, df.respondent_age)\n",
        "plt.title('House hold size vs Respondent age', y= 1.01, color = 'magenta', fontsize = 15)\n",
        "plt.show()"
      ],
      "execution_count": 102,
      "outputs": [
        {
          "output_type": "display_data",
          "data": {
            "image/png": "[encoded data removed]",
            "text/plain": [
              "<Figure size 540x360 with 1 Axes>"
            ]
          },
          "metadata": {
            "tags": []
          }
        }
      ]
    },
    {
      "cell_type": "markdown",
      "metadata": {
        "id": "ZA2LX4qa_452",
        "colab_type": "text"
      },
      "source": [
        "### **Correlation heatmap**"
      ]
    },
    {
      "cell_type": "code",
      "metadata": {
        "id": "aHKnsmFK_CQH",
        "colab_type": "code",
        "outputId": "daf8def4-46de-40ed-fb40-2474b1d912d4",
        "colab": {
          "base_uri": "https://localhost:8080/",
          "height": 357
        }
      },
      "source": [
        "cor = df.corr()\n",
        "\n",
        "plt.figure(dpi=90)\n",
        "sns.heatmap(cor, xticklabels=cor.columns, yticklabels=cor.columns, annot = True)\n",
        "plt.title('Heatmap showing Pearsons correlation', y = 1.05, color = 'magenta', fontsize = 15)\n",
        "plt.show()"
      ],
      "execution_count": 103,
      "outputs": [
        {
          "output_type": "display_data",
          "data": {
            "image/png": "[encoded data removed]",
            "text/plain": [
              "<Figure size 540x360 with 2 Axes>"
            ]
          },
          "metadata": {
            "tags": []
          }
        }
      ]
    },
    {
      "cell_type": "markdown",
      "metadata": {
        "id": "Z2HdPLlRABH4",
        "colab_type": "text"
      },
      "source": [
        "## Multivariate analysis"
      ]
    },
    {
      "cell_type": "markdown",
      "metadata": {
        "id": "H9QtbsCn51mV",
        "colab_type": "text"
      },
      "source": [
        "### **Pairplot to show distributions**"
      ]
    },
    {
      "cell_type": "code",
      "metadata": {
        "id": "-3H2G0MHtpj6",
        "colab_type": "code",
        "outputId": "5796dd53-3a4f-42d2-9e02-8141e9a5cc0a",
        "colab": {
          "base_uri": "https://localhost:8080/",
          "height": 369
        }
      },
      "source": [
        "# Creating a pairplot to build histograms and scatter plots.\n",
        "# The histogram on the diagonal shows the distribution of a single variable\n",
        "# while the scatter plots on the upper and lower triangles show the relationship (or lack thereof) between two variables.\n",
        "\n",
        "sns.pairplot(df)\n",
        "plt.show()"
      ],
      "execution_count": 104,
      "outputs": [
        {
          "output_type": "display_data",
          "data": {
            "image/png": "[encoded data removed]",
            "text/plain": [
              "<Figure size 360x360 with 6 Axes>"
            ]
          },
          "metadata": {
            "tags": []
          }
        }
      ]
    },
    {
      "cell_type": "code",
      "metadata": {
        "id": "D8MCvCTaO0Uk",
        "colab_type": "code",
        "colab": {}
      },
      "source": [
        "# A very weak relationship between the features can be deduced from the above scatter plot"
      ],
      "execution_count": 0,
      "outputs": []
    },
    {
      "cell_type": "markdown",
      "metadata": {
        "id": "IeZohNCh59Zc",
        "colab_type": "text"
      },
      "source": [
        "### **Correlation of variables**"
      ]
    },
    {
      "cell_type": "code",
      "metadata": {
        "id": "RyM0eF6PtphU",
        "colab_type": "code",
        "outputId": "96b652f3-3775-4848-a7a1-cf0eeeee697b",
        "colab": {
          "base_uri": "https://localhost:8080/",
          "height": 107
        }
      },
      "source": [
        "# Finding the correlation between the variables in the dataset.\n",
        "# When the value is near zero, there is no linear relationship. \n",
        "# As the correlation gets closer to plus or minus one, the relationship is stronger. \n",
        "# A value of one (or negative one) indicates a perfect linear relationship between two variables.\n",
        "# \n",
        "\n",
        "df.corr()"
      ],
      "execution_count": 106,
      "outputs": [
        {
          "output_type": "execute_result",
          "data": {
            "text/html": [
              "<div>\n",
              "<style scoped>\n",
              "    .dataframe tbody tr th:only-of-type {\n",
              "        vertical-align: middle;\n",
              "    }\n",
              "\n",
              "    .dataframe tbody tr th {\n",
              "        vertical-align: top;\n",
              "    }\n",
              "\n",
              "    .dataframe thead th {\n",
              "        text-align: right;\n",
              "    }\n",
              "</style>\n",
              "<table border=\"1\" class=\"dataframe\">\n",
              "  <thead>\n",
              "    <tr style=\"text-align: right;\">\n",
              "      <th></th>\n",
              "      <th>household_size</th>\n",
              "      <th>respondent_age</th>\n",
              "    </tr>\n",
              "  </thead>\n",
              "  <tbody>\n",
              "    <tr>\n",
              "      <th>household_size</th>\n",
              "      <td>1.000000</td>\n",
              "      <td>-0.124945</td>\n",
              "    </tr>\n",
              "    <tr>\n",
              "      <th>respondent_age</th>\n",
              "      <td>-0.124945</td>\n",
              "      <td>1.000000</td>\n",
              "    </tr>\n",
              "  </tbody>\n",
              "</table>\n",
              "</div>"
            ],
            "text/plain": [
              "                household_size  respondent_age\n",
              "household_size        1.000000       -0.124945\n",
              "respondent_age       -0.124945        1.000000"
            ]
          },
          "metadata": {
            "tags": []
          },
          "execution_count": 106
        }
      ]
    },
    {
      "cell_type": "code",
      "metadata": {
        "id": "uVH-FXO_PAvS",
        "colab_type": "code",
        "colab": {}
      },
      "source": [
        "# The correlation coefficient of -0.124945 shows a very weak negative relationship between the household size and the respondent age"
      ],
      "execution_count": 0,
      "outputs": []
    },
    {
      "cell_type": "markdown",
      "metadata": {
        "id": "V8NSrSlA6Opr",
        "colab_type": "text"
      },
      "source": [
        "### **Splitting the data into X and y**"
      ]
    },
    {
      "cell_type": "code",
      "metadata": {
        "id": "NZJTX4fctpcJ",
        "colab_type": "code",
        "colab": {}
      },
      "source": [
        "# Splitting up the data into an X array that contains the features to train on, and a y array with the target variable\n",
        "#\n",
        "X = df.drop('has_a_bank_account', axis = 1)\n",
        "y = df.iloc[:, 2]"
      ],
      "execution_count": 0,
      "outputs": []
    },
    {
      "cell_type": "markdown",
      "metadata": {
        "id": "DU9rnGGy6UN_",
        "colab_type": "text"
      },
      "source": [
        "### Encoding categorical features"
      ]
    },
    {
      "cell_type": "code",
      "metadata": {
        "id": "VRff8uiezTKj",
        "colab_type": "code",
        "colab": {}
      },
      "source": [
        "# Encoding the categorical columns using the get_dummies function\n",
        "#\n",
        "X = pd.get_dummies(X)"
      ],
      "execution_count": 0,
      "outputs": []
    },
    {
      "cell_type": "markdown",
      "metadata": {
        "id": "RyoWFvQa6gH9",
        "colab_type": "text"
      },
      "source": [
        "### **Encoding the target variable**"
      ]
    },
    {
      "cell_type": "code",
      "metadata": {
        "id": "XD0ocLCwzXc-",
        "colab_type": "code",
        "colab": {}
      },
      "source": [
        "# Encoding the target variable as linear regression works with numbers only\n",
        "#\n",
        "label_encoder = LabelEncoder()\n",
        "\n",
        "y = label_encoder.fit_transform(y)"
      ],
      "execution_count": 0,
      "outputs": []
    },
    {
      "cell_type": "markdown",
      "metadata": {
        "id": "Iw4rcn6g6pU4",
        "colab_type": "text"
      },
      "source": [
        "### **Splitting the data into training and test sets**"
      ]
    },
    {
      "cell_type": "code",
      "metadata": {
        "id": "WOocEUVq0wZd",
        "colab_type": "code",
        "colab": {}
      },
      "source": [
        "# Splitting the dataset into the Training set and Test set\n",
        "#\n",
        "\n",
        "X_train, X_test, y_train, y_test = train_test_split(X, y, test_size=0.35, random_state=0)"
      ],
      "execution_count": 0,
      "outputs": []
    },
    {
      "cell_type": "markdown",
      "metadata": {
        "id": "PY-hp8FC62mD",
        "colab_type": "text"
      },
      "source": [
        "### **Training the model**"
      ]
    },
    {
      "cell_type": "code",
      "metadata": {
        "id": "2FirQQDI08b7",
        "colab_type": "code",
        "outputId": "3ab13ccc-4706-4312-b912-e653e9630750",
        "colab": {
          "base_uri": "https://localhost:8080/",
          "height": 33
        }
      },
      "source": [
        "# Creating and training the model by fitting the linear regression model on the training data.\n",
        "#\n",
        "regressor = LinearRegression()\n",
        "\n",
        "regressor.fit(X_train, y_train)"
      ],
      "execution_count": 112,
      "outputs": [
        {
          "output_type": "execute_result",
          "data": {
            "text/plain": [
              "LinearRegression(copy_X=True, fit_intercept=True, n_jobs=None, normalize=False)"
            ]
          },
          "metadata": {
            "tags": []
          },
          "execution_count": 112
        }
      ]
    },
    {
      "cell_type": "markdown",
      "metadata": {
        "id": "Iy59dYWn66cW",
        "colab_type": "text"
      },
      "source": [
        "### **Making predictions using Linear Regression**"
      ]
    },
    {
      "cell_type": "code",
      "metadata": {
        "id": "QwkdXggn1mvG",
        "colab_type": "code",
        "colab": {}
      },
      "source": [
        "# Making predictions using the trained model\n",
        "#\n",
        "y_pred = regressor.predict(X_test)"
      ],
      "execution_count": 0,
      "outputs": []
    },
    {
      "cell_type": "markdown",
      "metadata": {
        "id": "njSuZa3g7EzH",
        "colab_type": "text"
      },
      "source": [
        "### **Performance evaluation**"
      ]
    },
    {
      "cell_type": "code",
      "metadata": {
        "id": "xrwHnBfj1miD",
        "colab_type": "code",
        "outputId": "25b00552-76b0-4e7e-8d5e-db77d4905423",
        "colab": {
          "base_uri": "https://localhost:8080/",
          "height": 33
        }
      },
      "source": [
        "# Coefficient of determination, R2, is the fraction (percentage) of variation in the response variable Y \n",
        "# that is explainable by the predictor variable X. It ranges between 0 (no predictability) to 1 (or 100%) \n",
        "# which indicates complete predictability.A high R2 indicates being able to predict response variable with less error.\n",
        "\n",
        "r2_score(y_test, y_pred)"
      ],
      "execution_count": 114,
      "outputs": [
        {
          "output_type": "execute_result",
          "data": {
            "text/plain": [
              "1.0"
            ]
          },
          "metadata": {
            "tags": []
          },
          "execution_count": 114
        }
      ]
    },
    {
      "cell_type": "code",
      "metadata": {
        "id": "6t34vqruG0uM",
        "colab_type": "code",
        "colab": {}
      },
      "source": [
        "# An R2 score of 1 indicates a good fit"
      ],
      "execution_count": 0,
      "outputs": []
    },
    {
      "cell_type": "code",
      "metadata": {
        "id": "yeYrWuxk2n58",
        "colab_type": "code",
        "outputId": "1f3b382c-a1de-4ef7-df79-b9bf82a4cbf2",
        "colab": {
          "base_uri": "https://localhost:8080/",
          "height": 201
        }
      },
      "source": [
        "# Previewing the coefficients and the y intercept of the model\n",
        "#\n",
        "(regressor.coef_, regressor.intercept_)"
      ],
      "execution_count": 116,
      "outputs": [
        {
          "output_type": "execute_result",
          "data": {
            "text/plain": [
              "(array([-3.18799091e-15, -9.02056208e-17, -7.74879642e-15, -7.91046990e-15,\n",
              "        -7.79098467e-15, -8.18087788e-15, -5.00000000e-01,  5.00000000e-01,\n",
              "        -6.71159520e-17, -2.06970357e-16, -1.52166814e-16,  6.80327258e-17,\n",
              "         1.71003478e-15,  2.05880710e-15,  1.61467054e-15,  1.92479103e-15,\n",
              "         1.95344157e-15,  1.86573027e-15,  6.42268603e-17, -2.32878728e-16,\n",
              "        -1.48344064e-16,  3.10361322e-16,  8.91114553e-17, -2.12177808e-16,\n",
              "        -1.61626409e-16,  1.26326809e-16, -1.86331826e-16, -3.37184829e-16,\n",
              "        -8.21933524e-17, -1.47325162e-16,  3.83975206e-16,  5.11472651e-16,\n",
              "         3.06300453e-16,  6.64670142e-16,  4.83689694e-16,  6.44558192e-16,\n",
              "         4.60081192e-16,  3.64129300e-16,  3.43671760e-16,  5.55653613e-16]),\n",
              " 0.5000000000000212)"
            ]
          },
          "metadata": {
            "tags": []
          },
          "execution_count": 116
        }
      ]
    },
    {
      "cell_type": "markdown",
      "metadata": {
        "id": "m-HdqYn07XIE",
        "colab_type": "text"
      },
      "source": [
        "### **Finding features which are significant in predicting the target variable**"
      ]
    },
    {
      "cell_type": "code",
      "metadata": {
        "id": "ogu4LMy725gd",
        "colab_type": "code",
        "outputId": "3af095a3-d096-43aa-8bdb-9ed81a69475a",
        "colab": {
          "base_uri": "https://localhost:8080/",
          "height": 1000
        }
      },
      "source": [
        "# Using confidence level and significance level, the relationship between the feature and the response can be determined\n",
        "# A predictor (an independent variable) that has a low p-value is likely to be a meaningful addition to the model because changes in the predictor's value \n",
        "# are related to changes in the response variable. Conversely, a larger (insignificant) p-value suggests that changes \n",
        "# in the predictor are not associated with changes in the response.\n",
        "X2 = sm.add_constant(X.values)\n",
        "model = sm.OLS(y, X2).fit()\n",
        "print(model.summary())"
      ],
      "execution_count": 117,
      "outputs": [
        {
          "output_type": "stream",
          "text": [
            "                            OLS Regression Results                            \n",
            "==============================================================================\n",
            "Dep. Variable:                      y   R-squared:                       1.000\n",
            "Model:                            OLS   Adj. R-squared:                  1.000\n",
            "Method:                 Least Squares   F-statistic:                 1.464e+30\n",
            "Date:                Sun, 18 Aug 2019   Prob (F-statistic):               0.00\n",
            "Time:                        19:30:27   Log-Likelihood:             5.8981e+05\n",
            "No. Observations:               19128   AIC:                        -1.180e+06\n",
            "Df Residuals:                   19095   BIC:                        -1.179e+06\n",
            "Df Model:                          32                                         \n",
            "Covariance Type:            nonrobust                                         \n",
            "==============================================================================\n",
            "                 coef    std err          t      P>|t|      [0.025      0.975]\n",
            "------------------------------------------------------------------------------\n",
            "const          0.1488   2.85e-16   5.21e+14      0.000       0.149       0.149\n",
            "x1         -3.194e-15   3.69e-17    -86.539      0.000   -3.27e-15   -3.12e-15\n",
            "x2          2.771e-16   5.62e-18     49.270      0.000    2.66e-16    2.88e-16\n",
            "x3             0.0372   1.55e-16   2.39e+14      0.000       0.037       0.037\n",
            "x4             0.0372    1.6e-16   2.33e+14      0.000       0.037       0.037\n",
            "x5             0.0372   1.87e-16   1.99e+14      0.000       0.037       0.037\n",
            "x6             0.0372   2.27e-16   1.64e+14      0.000       0.037       0.037\n",
            "x7            -0.4256   1.66e-16  -2.57e+15      0.000      -0.426      -0.426\n",
            "x8             0.5744   1.64e-16   3.49e+15      0.000       0.574       0.574\n",
            "x9             0.0744   1.71e-16   4.34e+14      0.000       0.074       0.074\n",
            "x10            0.0744   1.64e-16   4.55e+14      0.000       0.074       0.074\n",
            "x11            0.0744   1.65e-16    4.5e+14      0.000       0.074       0.074\n",
            "x12            0.0744   1.73e-16   4.29e+14      0.000       0.074       0.074\n",
            "x13            0.0248   2.61e-16    9.5e+13      0.000       0.025       0.025\n",
            "x14            0.0248   2.04e-16   1.22e+14      0.000       0.025       0.025\n",
            "x15            0.0248    6.2e-16      4e+13      0.000       0.025       0.025\n",
            "x16            0.0248   3.56e-16   6.97e+13      0.000       0.025       0.025\n",
            "x17            0.0248   3.09e-16   8.03e+13      0.000       0.025       0.025\n",
            "x18            0.0248   2.37e-16   1.05e+14      0.000       0.025       0.025\n",
            "x19            0.0298   6.86e-16   4.34e+13      0.000       0.030       0.030\n",
            "x20            0.0298   2.83e-15   1.05e+13      0.000       0.030       0.030\n",
            "x21            0.0298   6.71e-16   4.44e+13      0.000       0.030       0.030\n",
            "x22            0.0298    6.7e-16   4.44e+13      0.000       0.030       0.030\n",
            "x23            0.0298   6.92e-16    4.3e+13      0.000       0.030       0.030\n",
            "x24            0.0213   1.74e-15   1.22e+13      0.000       0.021       0.021\n",
            "x25            0.0213   5.74e-16   3.71e+13      0.000       0.021       0.021\n",
            "x26            0.0213   3.02e-15   7.04e+12      0.000       0.021       0.021\n",
            "x27            0.0213   5.59e-16   3.81e+13      0.000       0.021       0.021\n",
            "x28            0.0213   5.69e-16   3.74e+13      0.000       0.021       0.021\n",
            "x29            0.0213   6.12e-16   3.48e+13      0.000       0.021       0.021\n",
            "x30            0.0213   6.31e-16   3.37e+13      0.000       0.021       0.021\n",
            "x31            0.0149   8.06e-16   1.85e+13      0.000       0.015       0.015\n",
            "x32            0.0149   2.19e-16   6.78e+13      0.000       0.015       0.015\n",
            "x33            0.0149   4.96e-16      3e+13      0.000       0.015       0.015\n",
            "x34            0.0149   3.23e-16   4.61e+13      0.000       0.015       0.015\n",
            "x35            0.0149      6e-16   2.48e+13      0.000       0.015       0.015\n",
            "x36            0.0149   2.01e-16    7.4e+13      0.000       0.015       0.015\n",
            "x37            0.0149   4.14e-16   3.59e+13      0.000       0.015       0.015\n",
            "x38            0.0149   3.19e-16   4.67e+13      0.000       0.015       0.015\n",
            "x39            0.0149   2.44e-16    6.1e+13      0.000       0.015       0.015\n",
            "x40            0.0149   1.97e-16   7.55e+13      0.000       0.015       0.015\n",
            "==============================================================================\n",
            "Omnibus:                      491.711   Durbin-Watson:                   1.544\n",
            "Prob(Omnibus):                  0.000   Jarque-Bera (JB):              553.889\n",
            "Skew:                           0.367   Prob(JB):                    5.30e-121\n",
            "Kurtosis:                       3.396   Cond. No.                     2.76e+16\n",
            "==============================================================================\n",
            "\n",
            "Warnings:\n",
            "[1] Standard Errors assume that the covariance matrix of the errors is correctly specified.\n",
            "[2] The smallest eigenvalue is 4.7e-26. This might indicate that there are\n",
            "strong multicollinearity problems or that the design matrix is singular.\n"
          ],
          "name": "stdout"
        }
      ]
    },
    {
      "cell_type": "code",
      "metadata": {
        "id": "45wlL1jSHTal",
        "colab_type": "code",
        "colab": {}
      },
      "source": [
        "# From the output above, the predictor (independent) variables are allsigninficant because all of their p-values are 0.000."
      ],
      "execution_count": 0,
      "outputs": []
    },
    {
      "cell_type": "markdown",
      "metadata": {
        "id": "xXSfZPLkAKXP",
        "colab_type": "text"
      },
      "source": [
        "## Feature reduction and modelling"
      ]
    },
    {
      "cell_type": "markdown",
      "metadata": {
        "id": "dBx0diuMk4P2",
        "colab_type": "text"
      },
      "source": [
        "## Random Forest Classifier without feature reduction"
      ]
    },
    {
      "cell_type": "markdown",
      "metadata": {
        "id": "SJxQ9T1RHujt",
        "colab_type": "text"
      },
      "source": [
        "### **Splitting data into X and y**"
      ]
    },
    {
      "cell_type": "code",
      "metadata": {
        "id": "KoCiKVZeARmW",
        "colab_type": "code",
        "colab": {}
      },
      "source": [
        "# Splitting the dataset into independent features and the depandant variable\n",
        "#\n",
        "X = df.drop('has_a_bank_account', axis = 1)\n",
        "y = df.iloc[:, 2]"
      ],
      "execution_count": 0,
      "outputs": []
    },
    {
      "cell_type": "markdown",
      "metadata": {
        "id": "qTYfah5AH2Cx",
        "colab_type": "text"
      },
      "source": [
        "### **Encoding categorical columns**"
      ]
    },
    {
      "cell_type": "code",
      "metadata": {
        "id": "voYcyVtDAtDF",
        "colab_type": "code",
        "colab": {}
      },
      "source": [
        "# Encoding the categorical columns using the get_dummies function\n",
        "#\n",
        "X = pd.get_dummies(X)"
      ],
      "execution_count": 0,
      "outputs": []
    },
    {
      "cell_type": "markdown",
      "metadata": {
        "id": "q1IR4wc-H7r0",
        "colab_type": "text"
      },
      "source": [
        "### **Splitting data into training and testing sets**"
      ]
    },
    {
      "cell_type": "code",
      "metadata": {
        "id": "FeiBnt_-AtBb",
        "colab_type": "code",
        "colab": {}
      },
      "source": [
        "# Splitting the dataset into the Training set and Test set\n",
        "#\n",
        "\n",
        "X_train, X_test, y_train, y_test = train_test_split(X, y, test_size=0.25, random_state=0)"
      ],
      "execution_count": 0,
      "outputs": []
    },
    {
      "cell_type": "markdown",
      "metadata": {
        "id": "aXKiHeSdIFPa",
        "colab_type": "text"
      },
      "source": [
        "### **Standardising the data**"
      ]
    },
    {
      "cell_type": "code",
      "metadata": {
        "id": "ObWh90ftAs22",
        "colab_type": "code",
        "colab": {}
      },
      "source": [
        "# Standardising the data\n",
        "#\n",
        "sc = StandardScaler()\n",
        "X_train = sc.fit_transform(X_train)\n",
        "X_test = sc.transform(X_test)"
      ],
      "execution_count": 0,
      "outputs": []
    },
    {
      "cell_type": "markdown",
      "metadata": {
        "id": "GjJH1IESIOxV",
        "colab_type": "text"
      },
      "source": [
        "### Applying PCA"
      ]
    },
    {
      "cell_type": "code",
      "metadata": {
        "id": "Kb6HePoVAswW",
        "colab_type": "code",
        "colab": {}
      },
      "source": [
        "# Applying PCA\n",
        "#\n",
        "pca = PCA()\n",
        "X_train = pca.fit_transform(X_train)\n",
        "X_test = pca.transform(X_test)"
      ],
      "execution_count": 0,
      "outputs": []
    },
    {
      "cell_type": "code",
      "metadata": {
        "id": "c9KiVidcAstE",
        "colab_type": "code",
        "outputId": "238df144-c1bc-46e7-dad9-9622c249fc49",
        "colab": {
          "base_uri": "https://localhost:8080/",
          "height": 184
        }
      },
      "source": [
        "# Finding the variance caused by each of the principal components\n",
        "#\n",
        "print(pca.explained_variance_ratio_)"
      ],
      "execution_count": 124,
      "outputs": [
        {
          "output_type": "stream",
          "text": [
            "[8.89063864e-02 7.23110738e-02 7.14149994e-02 5.45138623e-02\n",
            " 4.94546843e-02 4.42209495e-02 4.08321169e-02 3.56331007e-02\n",
            " 3.50010511e-02 3.29225498e-02 3.11299937e-02 2.84160059e-02\n",
            " 2.73121238e-02 2.61524927e-02 2.61447847e-02 2.55629715e-02\n",
            " 2.53299641e-02 2.49881045e-02 2.48753800e-02 2.46112717e-02\n",
            " 2.44826065e-02 2.39894931e-02 2.32264224e-02 2.22686953e-02\n",
            " 2.07985243e-02 2.03765115e-02 1.62004361e-02 1.48931978e-02\n",
            " 1.21939243e-02 1.17837740e-02 1.05439169e-02 9.50863104e-03\n",
            " 1.99010707e-32 6.15937381e-33 5.51102220e-33 3.76072642e-33\n",
            " 2.71323705e-33 2.11673824e-33 9.16391362e-34 2.44435652e-36]\n"
          ],
          "name": "stdout"
        }
      ]
    },
    {
      "cell_type": "markdown",
      "metadata": {
        "id": "GH-vRf-IIWxG",
        "colab_type": "text"
      },
      "source": [
        "### **Training the model and making predictions**"
      ]
    },
    {
      "cell_type": "code",
      "metadata": {
        "id": "GUeY5d1UCs--",
        "colab_type": "code",
        "colab": {}
      },
      "source": [
        "# Training and Making Predictions\n",
        "# The random forest classification has been used to make predictions.\n",
        "\n",
        "classifier = RandomForestClassifier(max_depth=2, random_state=0)\n",
        "classifier.fit(X_train, y_train)\n",
        "\n",
        "# Predicting the Test set results\n",
        "y_pred = classifier.predict(X_test)"
      ],
      "execution_count": 0,
      "outputs": []
    },
    {
      "cell_type": "markdown",
      "metadata": {
        "id": "-qsAzHBaIdrH",
        "colab_type": "text"
      },
      "source": [
        "### **Performance evaluation**"
      ]
    },
    {
      "cell_type": "code",
      "metadata": {
        "id": "4PhevMpdCs8H",
        "colab_type": "code",
        "outputId": "4b72ac29-b305-4ae6-c91f-612a745343cd",
        "colab": {
          "base_uri": "https://localhost:8080/",
          "height": 67
        }
      },
      "source": [
        "# Performing evaluation\n",
        "#\n",
        "cm = confusion_matrix(y_test, y_pred)\n",
        "print(cm)\n",
        "print('Accuracy' , accuracy_score(y_test, y_pred))"
      ],
      "execution_count": 126,
      "outputs": [
        {
          "output_type": "stream",
          "text": [
            "[[2863   55]\n",
            " [ 538 1326]]\n",
            "Accuracy 0.8759933082392305\n"
          ],
          "name": "stdout"
        }
      ]
    },
    {
      "cell_type": "code",
      "metadata": {
        "id": "cAJt2WMtH65R",
        "colab_type": "code",
        "colab": {}
      },
      "source": [
        "# RandomForest Classifier model has an accuracy of 87.6% without specifying the number of components in the PCA analysis"
      ],
      "execution_count": 0,
      "outputs": []
    },
    {
      "cell_type": "markdown",
      "metadata": {
        "id": "sN7TtVt6IjHr",
        "colab_type": "text"
      },
      "source": [
        "## Random Forest Classifier with Principal Component Analysis"
      ]
    },
    {
      "cell_type": "code",
      "metadata": {
        "id": "wUvfg2srCs52",
        "colab_type": "code",
        "outputId": "ba650052-1aff-43eb-d1c0-90871d1eeea4",
        "colab": {
          "base_uri": "https://localhost:8080/",
          "height": 33
        }
      },
      "source": [
        "# Results when using diffrent Principal Components together with Random Forest Classifier\n",
        "#\n",
        "\n",
        "accuracy = {}\n",
        "for i in np.arange(1, len(X.columns)+1):\n",
        "  \n",
        "  # Splitting the dataset into the Training set and Test set\n",
        "  X_train, X_test, y_train, y_test = train_test_split(X, y, test_size=0.25, random_state=0)\n",
        "\n",
        "  # Standardising the data\n",
        "  sc = StandardScaler()\n",
        "  X_train = sc.fit_transform(X_train)\n",
        "  X_test = sc.transform(X_test)\n",
        "\n",
        "  # Applying PCA\n",
        "  pca = PCA(n_components = i)\n",
        "  X_train = pca.fit_transform(X_train)\n",
        "  X_test = pca.transform(X_test)\n",
        "\n",
        "  # Training and Making Predictions\n",
        "  # The random forest classification classifier has been used to make predictions.\n",
        "  classifier = RandomForestClassifier(max_depth=2, random_state=0)\n",
        "  classifier.fit(X_train, y_train)\n",
        "\n",
        "  # Predicting the Test set results\n",
        "  y_pred = classifier.predict(X_test)\n",
        "\n",
        "  # Performing evaluation\n",
        "  cm = confusion_matrix(y_test, y_pred)\n",
        "  acc = accuracy_score(y_test, y_pred)\n",
        "  \n",
        "  accuracy.update({'n_components ' + str(i) : 'accuracy ' + str(acc*100)})\n",
        "\n",
        " #Finding the ideal number of principal components for optimal accuracy\n",
        "maximum = max(accuracy, key=accuracy.get)\n",
        "print(maximum, accuracy[maximum])"
      ],
      "execution_count": 128,
      "outputs": [
        {
          "output_type": "stream",
          "text": [
            "n_components 23 accuracy 92.59723964868256\n"
          ],
          "name": "stdout"
        }
      ]
    },
    {
      "cell_type": "code",
      "metadata": {
        "id": "nm7MjgKnCs4F",
        "colab_type": "code",
        "outputId": "3ed266af-6bd1-4e99-9738-0f73fc63176f",
        "colab": {
          "base_uri": "https://localhost:8080/",
          "height": 33
        }
      },
      "source": [
        "#Finding the ideal number of principal components for optimal accuracy\n",
        "maximum = max(accuracy, key=accuracy.get)\n",
        "print(maximum, accuracy[maximum])"
      ],
      "execution_count": 129,
      "outputs": [
        {
          "output_type": "stream",
          "text": [
            "n_components 23 accuracy 92.59723964868256\n"
          ],
          "name": "stdout"
        }
      ]
    },
    {
      "cell_type": "markdown",
      "metadata": {
        "id": "gZmq8rcv4CIq",
        "colab_type": "text"
      },
      "source": [
        "## Random Forest Classifier with Linear Discriminant Analysis"
      ]
    },
    {
      "cell_type": "code",
      "metadata": {
        "id": "H32UKWrp4Yph",
        "colab_type": "code",
        "outputId": "18b82645-9fee-4ee5-b7a0-67e4a878eeac",
        "colab": {
          "base_uri": "https://localhost:8080/",
          "height": 33
        }
      },
      "source": [
        "# Results when using diffrent LDA Components together with the Random Forest Classifier\n",
        "#\n",
        "\n",
        "accuracy = {}\n",
        "for i in np.arange(1, len(X.columns)+1):\n",
        "  \n",
        "  # Splitting the dataset into the Training set and Test set\n",
        "  X_train, X_test, y_train, y_test = train_test_split(X, y, test_size=0.25, random_state=0)\n",
        "\n",
        "  # Standardising the data\n",
        "  sc = StandardScaler()\n",
        "  X_train = sc.fit_transform(X_train)\n",
        "  X_test = sc.transform(X_test)\n",
        "\n",
        "  # Applying LDA\n",
        "  lda = LDA(n_components = i)\n",
        "  X_train = lda.fit_transform(X_train, y_train)\n",
        "  X_test = lda.transform(X_test)\n",
        "\n",
        "  # Training and Making Predictions\n",
        "  # The random forest classification classifier has been used to make predictions.\n",
        "  classifier = RandomForestClassifier(max_depth=2, random_state=0)\n",
        "  classifier.fit(X_train, y_train)\n",
        "\n",
        "  # Predicting the Test set results\n",
        "  y_pred = classifier.predict(X_test)\n",
        "\n",
        "  # Performing evaluation\n",
        "  cm = confusion_matrix(y_test, y_pred)\n",
        "  acc = accuracy_score(y_test, y_pred)\n",
        "  \n",
        "  accuracy.update({'n_components ' + str(i) : 'accuracy ' + str(acc*100)})\n",
        "  \n",
        "#Finding the ideal number of LDA components for optimal accuracy\n",
        "maximum = max(accuracy, key=accuracy.get)\n",
        "print(maximum, accuracy[maximum])"
      ],
      "execution_count": 130,
      "outputs": [
        {
          "output_type": "stream",
          "text": [
            "n_components 1 accuracy 100.0\n"
          ],
          "name": "stdout"
        }
      ]
    },
    {
      "cell_type": "code",
      "metadata": {
        "id": "gioSYJ7eVzxN",
        "colab_type": "code",
        "colab": {}
      },
      "source": [
        "# From the above analysis it can be observed that the Logistic Regression model together with the Linear Discriminat Analysis reduction technique\n",
        "# has the highest accuracy score when predicting whether an individual has a bank account or not.\n",
        "# Linear Discriminant Analysis produces better predictions when compared to Principal Components Analysis.\n",
        "# N/B > This model should be handled with care, as it might lead to overfitting when predicting new data."
      ],
      "execution_count": 0,
      "outputs": []
    }
  ]
}